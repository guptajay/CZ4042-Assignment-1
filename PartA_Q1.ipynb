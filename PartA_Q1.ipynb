{
 "cells": [
  {
   "cell_type": "markdown",
   "metadata": {
    "id": "YM8unKH7nSIM"
   },
   "source": [
    "# CZ4042 Neural Networks & Deep Learning\n",
    "## Assignment - 1: Part A, Question 1\n",
    "\n",
    "> Gupta Jay  \n",
    "> U1822549K  \n",
    "> School of Computer Science and Engineering  \n",
    "> Nanyang Technological University, Singapore  "
   ]
  },
  {
   "cell_type": "markdown",
   "metadata": {},
   "source": [
    "## Imports"
   ]
  },
  {
   "cell_type": "code",
   "execution_count": 13,
   "metadata": {},
   "outputs": [],
   "source": [
    "# Setting the seed here is sufficient. \n",
    "# If you don't plan to use these starter code, make sure you add this cell.\n",
    "\n",
    "SEED = 42\n",
    "\n",
    "import os\n",
    "os.environ['TF_CUDNN_DETERMINISTIC'] = '1'\n",
    "\n",
    "import random \n",
    "random.seed(SEED)\n",
    "\n",
    "import numpy as np\n",
    "np.random.seed(SEED)\n",
    "\n",
    "import tensorflow as tf\n",
    "tf.random.set_seed(SEED)"
   ]
  },
  {
   "cell_type": "code",
   "execution_count": 14,
   "metadata": {},
   "outputs": [],
   "source": [
    "import pandas as pd\n",
    "import numpy as np\n",
    "\n",
    "# tensorflow libraries\n",
    "import tensorflow as tf\n",
    "import tensorflow.keras as keras\n",
    "from tensorflow.keras import layers\n",
    "from tensorflow.keras import Sequential\n",
    "\n",
    "# sklearn libraries are useful for preprocessing, performance measures, etc.\n",
    "from sklearn import preprocessing\n",
    "from sklearn.model_selection import KFold\n",
    "from sklearn.model_selection import train_test_split\n",
    "\n",
    "from matplotlib import pyplot as plt"
   ]
  },
  {
   "cell_type": "code",
   "execution_count": 15,
   "metadata": {},
   "outputs": [
    {
     "name": "stdout",
     "output_type": "stream",
     "text": [
      "2.6.0\n"
     ]
    }
   ],
   "source": [
    "print(tf.__version__)"
   ]
  },
  {
   "cell_type": "code",
   "execution_count": 16,
   "metadata": {},
   "outputs": [],
   "source": [
    "# Supress any warnings for clean presentation\n",
    "import warnings\n",
    "warnings.filterwarnings(\"ignore\")"
   ]
  },
  {
   "cell_type": "code",
   "execution_count": 17,
   "metadata": {
    "id": "An4b9d12p8u2"
   },
   "outputs": [
    {
     "data": {
      "text/html": [
       "<div>\n",
       "<style scoped>\n",
       "    .dataframe tbody tr th:only-of-type {\n",
       "        vertical-align: middle;\n",
       "    }\n",
       "\n",
       "    .dataframe tbody tr th {\n",
       "        vertical-align: top;\n",
       "    }\n",
       "\n",
       "    .dataframe thead th {\n",
       "        text-align: right;\n",
       "    }\n",
       "</style>\n",
       "<table border=\"1\" class=\"dataframe\">\n",
       "  <thead>\n",
       "    <tr style=\"text-align: right;\">\n",
       "      <th></th>\n",
       "      <th>filename</th>\n",
       "      <th>length</th>\n",
       "      <th>chroma_stft_mean</th>\n",
       "      <th>chroma_stft_var</th>\n",
       "      <th>rms_mean</th>\n",
       "      <th>rms_var</th>\n",
       "      <th>spectral_centroid_mean</th>\n",
       "      <th>spectral_centroid_var</th>\n",
       "      <th>spectral_bandwidth_mean</th>\n",
       "      <th>spectral_bandwidth_var</th>\n",
       "      <th>...</th>\n",
       "      <th>mfcc16_var</th>\n",
       "      <th>mfcc17_mean</th>\n",
       "      <th>mfcc17_var</th>\n",
       "      <th>mfcc18_mean</th>\n",
       "      <th>mfcc18_var</th>\n",
       "      <th>mfcc19_mean</th>\n",
       "      <th>mfcc19_var</th>\n",
       "      <th>mfcc20_mean</th>\n",
       "      <th>mfcc20_var</th>\n",
       "      <th>label</th>\n",
       "    </tr>\n",
       "  </thead>\n",
       "  <tbody>\n",
       "    <tr>\n",
       "      <th>0</th>\n",
       "      <td>blues.00000.wav</td>\n",
       "      <td>661794</td>\n",
       "      <td>0.350088</td>\n",
       "      <td>0.088757</td>\n",
       "      <td>0.130228</td>\n",
       "      <td>0.002827</td>\n",
       "      <td>1784.165850</td>\n",
       "      <td>129774.064525</td>\n",
       "      <td>2002.449060</td>\n",
       "      <td>85882.761315</td>\n",
       "      <td>...</td>\n",
       "      <td>52.420910</td>\n",
       "      <td>-1.690215</td>\n",
       "      <td>36.524071</td>\n",
       "      <td>-0.408979</td>\n",
       "      <td>41.597103</td>\n",
       "      <td>-2.303523</td>\n",
       "      <td>55.062923</td>\n",
       "      <td>1.221291</td>\n",
       "      <td>46.936035</td>\n",
       "      <td>blues</td>\n",
       "    </tr>\n",
       "    <tr>\n",
       "      <th>1</th>\n",
       "      <td>blues.00001.wav</td>\n",
       "      <td>661794</td>\n",
       "      <td>0.340914</td>\n",
       "      <td>0.094980</td>\n",
       "      <td>0.095948</td>\n",
       "      <td>0.002373</td>\n",
       "      <td>1530.176679</td>\n",
       "      <td>375850.073649</td>\n",
       "      <td>2039.036516</td>\n",
       "      <td>213843.755497</td>\n",
       "      <td>...</td>\n",
       "      <td>55.356403</td>\n",
       "      <td>-0.731125</td>\n",
       "      <td>60.314529</td>\n",
       "      <td>0.295073</td>\n",
       "      <td>48.120598</td>\n",
       "      <td>-0.283518</td>\n",
       "      <td>51.106190</td>\n",
       "      <td>0.531217</td>\n",
       "      <td>45.786282</td>\n",
       "      <td>blues</td>\n",
       "    </tr>\n",
       "    <tr>\n",
       "      <th>2</th>\n",
       "      <td>blues.00002.wav</td>\n",
       "      <td>661794</td>\n",
       "      <td>0.363637</td>\n",
       "      <td>0.085275</td>\n",
       "      <td>0.175570</td>\n",
       "      <td>0.002746</td>\n",
       "      <td>1552.811865</td>\n",
       "      <td>156467.643368</td>\n",
       "      <td>1747.702312</td>\n",
       "      <td>76254.192257</td>\n",
       "      <td>...</td>\n",
       "      <td>40.598766</td>\n",
       "      <td>-7.729093</td>\n",
       "      <td>47.639427</td>\n",
       "      <td>-1.816407</td>\n",
       "      <td>52.382141</td>\n",
       "      <td>-3.439720</td>\n",
       "      <td>46.639660</td>\n",
       "      <td>-2.231258</td>\n",
       "      <td>30.573025</td>\n",
       "      <td>blues</td>\n",
       "    </tr>\n",
       "    <tr>\n",
       "      <th>3</th>\n",
       "      <td>blues.00003.wav</td>\n",
       "      <td>661794</td>\n",
       "      <td>0.404785</td>\n",
       "      <td>0.093999</td>\n",
       "      <td>0.141093</td>\n",
       "      <td>0.006346</td>\n",
       "      <td>1070.106615</td>\n",
       "      <td>184355.942417</td>\n",
       "      <td>1596.412872</td>\n",
       "      <td>166441.494769</td>\n",
       "      <td>...</td>\n",
       "      <td>44.427753</td>\n",
       "      <td>-3.319597</td>\n",
       "      <td>50.206673</td>\n",
       "      <td>0.636965</td>\n",
       "      <td>37.319130</td>\n",
       "      <td>-0.619121</td>\n",
       "      <td>37.259739</td>\n",
       "      <td>-3.407448</td>\n",
       "      <td>31.949339</td>\n",
       "      <td>blues</td>\n",
       "    </tr>\n",
       "    <tr>\n",
       "      <th>4</th>\n",
       "      <td>blues.00004.wav</td>\n",
       "      <td>661794</td>\n",
       "      <td>0.308526</td>\n",
       "      <td>0.087841</td>\n",
       "      <td>0.091529</td>\n",
       "      <td>0.002303</td>\n",
       "      <td>1835.004266</td>\n",
       "      <td>343399.939274</td>\n",
       "      <td>1748.172116</td>\n",
       "      <td>88445.209036</td>\n",
       "      <td>...</td>\n",
       "      <td>86.099236</td>\n",
       "      <td>-5.454034</td>\n",
       "      <td>75.269707</td>\n",
       "      <td>-0.916874</td>\n",
       "      <td>53.613918</td>\n",
       "      <td>-4.404827</td>\n",
       "      <td>62.910812</td>\n",
       "      <td>-11.703234</td>\n",
       "      <td>55.195160</td>\n",
       "      <td>blues</td>\n",
       "    </tr>\n",
       "  </tbody>\n",
       "</table>\n",
       "<p>5 rows × 60 columns</p>\n",
       "</div>"
      ],
      "text/plain": [
       "          filename  length  chroma_stft_mean  chroma_stft_var  rms_mean  \\\n",
       "0  blues.00000.wav  661794          0.350088         0.088757  0.130228   \n",
       "1  blues.00001.wav  661794          0.340914         0.094980  0.095948   \n",
       "2  blues.00002.wav  661794          0.363637         0.085275  0.175570   \n",
       "3  blues.00003.wav  661794          0.404785         0.093999  0.141093   \n",
       "4  blues.00004.wav  661794          0.308526         0.087841  0.091529   \n",
       "\n",
       "    rms_var  spectral_centroid_mean  spectral_centroid_var  \\\n",
       "0  0.002827             1784.165850          129774.064525   \n",
       "1  0.002373             1530.176679          375850.073649   \n",
       "2  0.002746             1552.811865          156467.643368   \n",
       "3  0.006346             1070.106615          184355.942417   \n",
       "4  0.002303             1835.004266          343399.939274   \n",
       "\n",
       "   spectral_bandwidth_mean  spectral_bandwidth_var  ...  mfcc16_var  \\\n",
       "0              2002.449060            85882.761315  ...   52.420910   \n",
       "1              2039.036516           213843.755497  ...   55.356403   \n",
       "2              1747.702312            76254.192257  ...   40.598766   \n",
       "3              1596.412872           166441.494769  ...   44.427753   \n",
       "4              1748.172116            88445.209036  ...   86.099236   \n",
       "\n",
       "   mfcc17_mean  mfcc17_var  mfcc18_mean  mfcc18_var  mfcc19_mean  mfcc19_var  \\\n",
       "0    -1.690215   36.524071    -0.408979   41.597103    -2.303523   55.062923   \n",
       "1    -0.731125   60.314529     0.295073   48.120598    -0.283518   51.106190   \n",
       "2    -7.729093   47.639427    -1.816407   52.382141    -3.439720   46.639660   \n",
       "3    -3.319597   50.206673     0.636965   37.319130    -0.619121   37.259739   \n",
       "4    -5.454034   75.269707    -0.916874   53.613918    -4.404827   62.910812   \n",
       "\n",
       "   mfcc20_mean  mfcc20_var  label  \n",
       "0     1.221291   46.936035  blues  \n",
       "1     0.531217   45.786282  blues  \n",
       "2    -2.231258   30.573025  blues  \n",
       "3    -3.407448   31.949339  blues  \n",
       "4   -11.703234   55.195160  blues  \n",
       "\n",
       "[5 rows x 60 columns]"
      ]
     },
     "execution_count": 17,
     "metadata": {},
     "output_type": "execute_result"
    }
   ],
   "source": [
    "df = pd.read_csv('./features_30_sec.csv')\n",
    "df.head()"
   ]
  },
  {
   "cell_type": "code",
   "execution_count": 18,
   "metadata": {
    "id": "CHZQbQVzqGIA"
   },
   "outputs": [
    {
     "data": {
      "text/plain": [
       "blues        100\n",
       "classical    100\n",
       "country      100\n",
       "disco        100\n",
       "hiphop       100\n",
       "jazz         100\n",
       "metal        100\n",
       "pop          100\n",
       "reggae       100\n",
       "rock         100\n",
       "Name: label, dtype: int64"
      ]
     },
     "execution_count": 18,
     "metadata": {},
     "output_type": "execute_result"
    }
   ],
   "source": [
    "df['label'].value_counts()"
   ]
  },
  {
   "cell_type": "markdown",
   "metadata": {
    "id": "1zp_RDMgqL9Z"
   },
   "source": [
    "Split and scale dataset"
   ]
  },
  {
   "cell_type": "code",
   "execution_count": 19,
   "metadata": {
    "id": "2fNTd9t7qHCI"
   },
   "outputs": [],
   "source": [
    "columns_to_drop = ['label','filename', 'length']\n",
    "\n",
    "def prepare_dataset(df, columns_to_drop, test_size, random_state):\n",
    "\n",
    "    # Encode the labels from 0 to n_classes-1  \n",
    "    label_encoder = preprocessing.LabelEncoder()\n",
    "    df['label'] = label_encoder.fit_transform(df['label'])\n",
    "  \n",
    "    # devide data to train and test\n",
    "    df_train, df_test = train_test_split(df, test_size=test_size, random_state=random_state)\n",
    "    \n",
    "    # scale the training inputs\n",
    "    x_train = df_train.drop(columns_to_drop,axis=1)\n",
    "    y_train = df_train['label'].to_numpy()\n",
    "    \n",
    "    standard_scaler = preprocessing.StandardScaler()\n",
    "    x_train_scaled = standard_scaler.fit_transform(x_train)\n",
    "\n",
    "    #scale and prepare testing data\n",
    "    x_test = df_test.drop(columns_to_drop,axis=1)\n",
    "    x_test_scaled = standard_scaler.transform(x_test)\n",
    "    y_test = df_test['label'].to_numpy() \n",
    "  \n",
    "    return x_train_scaled, y_train, x_test_scaled, y_test"
   ]
  },
  {
   "cell_type": "code",
   "execution_count": 20,
   "metadata": {
    "id": "2fNTd9t7qHCI"
   },
   "outputs": [
    {
     "name": "stdout",
     "output_type": "stream",
     "text": [
      "(700, 57) (700,)\n",
      "(300, 57) (300,)\n"
     ]
    }
   ],
   "source": [
    "X_train, y_train, X_test, y_test = prepare_dataset(df, columns_to_drop, test_size=0.3, random_state=0)\n",
    "\n",
    "print(X_train.shape, y_train.shape)\n",
    "print(X_test.shape, y_test.shape)"
   ]
  },
  {
   "cell_type": "markdown",
   "metadata": {},
   "source": [
    "## Part A: Feedforward Deep Neural Network\n",
    "\n",
    "* **Loss Function**: Sparse Categorial Crossentropy\n",
    "* **Epochs**: 50\n",
    "* **Batch Size**: 1 "
   ]
  },
  {
   "cell_type": "code",
   "execution_count": 21,
   "metadata": {},
   "outputs": [],
   "source": [
    "def getModel(first_layer_activation, second_layer_activation):\n",
    "    # Inputs -> Dense -> Dropout -> Dense (Output)\n",
    "    model = keras.Sequential()\n",
    "    model.add(layers.Dense(16, activation=first_layer_activation, input_dim=X_train.shape[1]))\n",
    "    model.add(layers.Dropout(0.3))\n",
    "    model.add(layers.Dense(df['label'].nunique(), activation=second_layer_activation))\n",
    "    return model\n",
    "\n",
    "def getOptimizer():\n",
    "    # Adam Optimizer (Default Parameters) -> Stochastic Gradient Descent\n",
    "    optimizer = keras.optimizers.Adam()\n",
    "    return optimizer"
   ]
  },
  {
   "cell_type": "code",
   "execution_count": 22,
   "metadata": {},
   "outputs": [],
   "source": [
    "loss = \"sparse_categorical_crossentropy\"\n",
    "metrics = [\"accuracy\"]\n",
    "optimizer = getOptimizer()\n",
    "\n",
    "model = getModel(\"relu\", \"softmax\")\n",
    "model.compile(loss=loss, optimizer=optimizer, metrics=metrics)"
   ]
  },
  {
   "cell_type": "code",
   "execution_count": 23,
   "metadata": {},
   "outputs": [
    {
     "data": {
      "image/png": "[encoded data removed]",
      "text/plain": [
       "<IPython.core.display.Image object>"
      ]
     },
     "execution_count": 23,
     "metadata": {},
     "output_type": "execute_result"
    }
   ],
   "source": [
    "keras.utils.plot_model(model, show_shapes=True, rankdir=\"LR\")"
   ]
  },
  {
   "cell_type": "code",
   "execution_count": 24,
   "metadata": {},
   "outputs": [
    {
     "name": "stderr",
     "output_type": "stream",
     "text": [
      "2021-10-13 15:37:18.719410: I tensorflow/compiler/mlir/mlir_graph_optimization_pass.cc:185] None of the MLIR Optimization Passes are enabled (registered 2)\n"
     ]
    },
    {
     "name": "stdout",
     "output_type": "stream",
     "text": [
      "Epoch 1/50\n",
      "700/700 [==============================] - 1s 1ms/step - loss: 2.1805 - accuracy: 0.2129 - val_loss: 1.7609 - val_accuracy: 0.3633\n",
      "Epoch 2/50\n",
      "700/700 [==============================] - 0s 706us/step - loss: 1.6788 - accuracy: 0.3843 - val_loss: 1.5471 - val_accuracy: 0.4300\n",
      "Epoch 3/50\n",
      "700/700 [==============================] - 1s 716us/step - loss: 1.5199 - accuracy: 0.4357 - val_loss: 1.4200 - val_accuracy: 0.4700\n",
      "Epoch 4/50\n",
      "700/700 [==============================] - 1s 774us/step - loss: 1.3646 - accuracy: 0.5286 - val_loss: 1.3311 - val_accuracy: 0.5333\n",
      "Epoch 5/50\n",
      "700/700 [==============================] - 1s 806us/step - loss: 1.2762 - accuracy: 0.5529 - val_loss: 1.2641 - val_accuracy: 0.5800\n",
      "Epoch 6/50\n",
      "700/700 [==============================] - 1s 916us/step - loss: 1.2104 - accuracy: 0.5614 - val_loss: 1.2330 - val_accuracy: 0.5833\n",
      "Epoch 7/50\n",
      "700/700 [==============================] - 1s 859us/step - loss: 1.1341 - accuracy: 0.5957 - val_loss: 1.1765 - val_accuracy: 0.6000\n",
      "Epoch 8/50\n",
      "700/700 [==============================] - 1s 722us/step - loss: 1.1231 - accuracy: 0.6071 - val_loss: 1.1649 - val_accuracy: 0.6100\n",
      "Epoch 9/50\n",
      "700/700 [==============================] - 0s 704us/step - loss: 1.0271 - accuracy: 0.6329 - val_loss: 1.1363 - val_accuracy: 0.5967\n",
      "Epoch 10/50\n",
      "700/700 [==============================] - 0s 705us/step - loss: 1.0307 - accuracy: 0.6029 - val_loss: 1.1222 - val_accuracy: 0.6233\n",
      "Epoch 11/50\n",
      "700/700 [==============================] - 1s 1ms/step - loss: 1.0382 - accuracy: 0.6257 - val_loss: 1.1194 - val_accuracy: 0.6000\n",
      "Epoch 12/50\n",
      "700/700 [==============================] - 1s 760us/step - loss: 0.9808 - accuracy: 0.6414 - val_loss: 1.1114 - val_accuracy: 0.6233\n",
      "Epoch 13/50\n",
      "700/700 [==============================] - 1s 1ms/step - loss: 1.0040 - accuracy: 0.6414 - val_loss: 1.0967 - val_accuracy: 0.6200\n",
      "Epoch 14/50\n",
      "700/700 [==============================] - 1s 1ms/step - loss: 0.9347 - accuracy: 0.6457 - val_loss: 1.0878 - val_accuracy: 0.6267\n",
      "Epoch 15/50\n",
      "700/700 [==============================] - 1s 790us/step - loss: 0.9650 - accuracy: 0.6243 - val_loss: 1.0931 - val_accuracy: 0.6267\n",
      "Epoch 16/50\n",
      "700/700 [==============================] - 0s 714us/step - loss: 0.9534 - accuracy: 0.6557 - val_loss: 1.0741 - val_accuracy: 0.6467\n",
      "Epoch 17/50\n",
      "700/700 [==============================] - 0s 712us/step - loss: 0.9230 - accuracy: 0.6700 - val_loss: 1.0991 - val_accuracy: 0.6333\n",
      "Epoch 18/50\n",
      "700/700 [==============================] - 0s 710us/step - loss: 0.9015 - accuracy: 0.6786 - val_loss: 1.0955 - val_accuracy: 0.6533\n",
      "Epoch 19/50\n",
      "700/700 [==============================] - 1s 1ms/step - loss: 0.8848 - accuracy: 0.6671 - val_loss: 1.1064 - val_accuracy: 0.6533\n",
      "Epoch 20/50\n",
      "700/700 [==============================] - 1s 714us/step - loss: 0.8419 - accuracy: 0.6886 - val_loss: 1.1076 - val_accuracy: 0.6400\n",
      "Epoch 21/50\n",
      "700/700 [==============================] - 1s 1ms/step - loss: 0.8418 - accuracy: 0.6829 - val_loss: 1.0891 - val_accuracy: 0.6433\n",
      "Epoch 22/50\n",
      "700/700 [==============================] - 1s 1ms/step - loss: 0.8190 - accuracy: 0.6929 - val_loss: 1.1063 - val_accuracy: 0.6400\n",
      "Epoch 23/50\n",
      "700/700 [==============================] - 1s 797us/step - loss: 0.7979 - accuracy: 0.7014 - val_loss: 1.1179 - val_accuracy: 0.6433\n",
      "Epoch 24/50\n",
      "700/700 [==============================] - 1s 825us/step - loss: 0.8034 - accuracy: 0.7029 - val_loss: 1.1132 - val_accuracy: 0.6733\n",
      "Epoch 25/50\n",
      "700/700 [==============================] - 1s 974us/step - loss: 0.7927 - accuracy: 0.7029 - val_loss: 1.1076 - val_accuracy: 0.6733\n",
      "Epoch 26/50\n",
      "700/700 [==============================] - 1s 814us/step - loss: 0.7696 - accuracy: 0.7014 - val_loss: 1.1299 - val_accuracy: 0.6567\n",
      "Epoch 27/50\n",
      "700/700 [==============================] - 1s 756us/step - loss: 0.7782 - accuracy: 0.6957 - val_loss: 1.1322 - val_accuracy: 0.6733\n",
      "Epoch 28/50\n",
      "700/700 [==============================] - 1s 785us/step - loss: 0.7886 - accuracy: 0.7171 - val_loss: 1.1375 - val_accuracy: 0.6667\n",
      "Epoch 29/50\n",
      "700/700 [==============================] - 1s 803us/step - loss: 0.7645 - accuracy: 0.7086 - val_loss: 1.1538 - val_accuracy: 0.6767\n",
      "Epoch 30/50\n",
      "700/700 [==============================] - 1s 796us/step - loss: 0.7845 - accuracy: 0.7114 - val_loss: 1.1660 - val_accuracy: 0.6767\n",
      "Epoch 31/50\n",
      "700/700 [==============================] - 1s 721us/step - loss: 0.7426 - accuracy: 0.7114 - val_loss: 1.1799 - val_accuracy: 0.6700\n",
      "Epoch 32/50\n",
      "700/700 [==============================] - 1s 759us/step - loss: 0.7791 - accuracy: 0.7129 - val_loss: 1.1731 - val_accuracy: 0.6733\n",
      "Epoch 33/50\n",
      "700/700 [==============================] - 1s 885us/step - loss: 0.7527 - accuracy: 0.7343 - val_loss: 1.2163 - val_accuracy: 0.6467\n",
      "Epoch 34/50\n",
      "700/700 [==============================] - 1s 1ms/step - loss: 0.7467 - accuracy: 0.7243 - val_loss: 1.1854 - val_accuracy: 0.6900\n",
      "Epoch 35/50\n",
      "700/700 [==============================] - 1s 1ms/step - loss: 0.7319 - accuracy: 0.7157 - val_loss: 1.2004 - val_accuracy: 0.6833\n",
      "Epoch 36/50\n",
      "700/700 [==============================] - 1s 860us/step - loss: 0.7842 - accuracy: 0.6943 - val_loss: 1.1854 - val_accuracy: 0.6867\n",
      "Epoch 37/50\n",
      "700/700 [==============================] - 1s 844us/step - loss: 0.7755 - accuracy: 0.7014 - val_loss: 1.2115 - val_accuracy: 0.7033\n",
      "Epoch 38/50\n",
      "700/700 [==============================] - 1s 1ms/step - loss: 0.7487 - accuracy: 0.7043 - val_loss: 1.2084 - val_accuracy: 0.6867\n",
      "Epoch 39/50\n",
      "700/700 [==============================] - 1s 1ms/step - loss: 0.7654 - accuracy: 0.7029 - val_loss: 1.2009 - val_accuracy: 0.6867\n",
      "Epoch 40/50\n",
      "700/700 [==============================] - 1s 888us/step - loss: 0.7434 - accuracy: 0.7086 - val_loss: 1.2557 - val_accuracy: 0.6633\n",
      "Epoch 41/50\n",
      "700/700 [==============================] - 1s 753us/step - loss: 0.7032 - accuracy: 0.7229 - val_loss: 1.2433 - val_accuracy: 0.6733\n",
      "Epoch 42/50\n",
      "700/700 [==============================] - 1s 860us/step - loss: 0.7028 - accuracy: 0.7257 - val_loss: 1.2688 - val_accuracy: 0.6900\n",
      "Epoch 43/50\n",
      "700/700 [==============================] - 1s 1ms/step - loss: 0.7113 - accuracy: 0.7371 - val_loss: 1.2527 - val_accuracy: 0.6733\n",
      "Epoch 44/50\n",
      "700/700 [==============================] - 1s 828us/step - loss: 0.7227 - accuracy: 0.7143 - val_loss: 1.2575 - val_accuracy: 0.6900\n",
      "Epoch 45/50\n",
      "700/700 [==============================] - 1s 887us/step - loss: 0.7142 - accuracy: 0.7186 - val_loss: 1.2901 - val_accuracy: 0.7000\n",
      "Epoch 46/50\n",
      "700/700 [==============================] - 1s 828us/step - loss: 0.6724 - accuracy: 0.7500 - val_loss: 1.2905 - val_accuracy: 0.6800\n",
      "Epoch 47/50\n",
      "700/700 [==============================] - 1s 961us/step - loss: 0.6816 - accuracy: 0.7243 - val_loss: 1.2698 - val_accuracy: 0.6867\n",
      "Epoch 48/50\n",
      "700/700 [==============================] - 1s 830us/step - loss: 0.7061 - accuracy: 0.7343 - val_loss: 1.2849 - val_accuracy: 0.7033\n",
      "Epoch 49/50\n",
      "700/700 [==============================] - 1s 891us/step - loss: 0.6633 - accuracy: 0.7586 - val_loss: 1.3311 - val_accuracy: 0.6900\n",
      "Epoch 50/50\n",
      "700/700 [==============================] - 1s 909us/step - loss: 0.6884 - accuracy: 0.7557 - val_loss: 1.3675 - val_accuracy: 0.6700\n"
     ]
    }
   ],
   "source": [
    "epochs = 50\n",
    "verbose = 1\n",
    "batch_size = 1\n",
    "\n",
    "history = model.fit(X_train, y_train, epochs=epochs, validation_data=(X_test, y_test), verbose=verbose, batch_size=batch_size)"
   ]
  },
  {
   "cell_type": "markdown",
   "metadata": {},
   "source": [
    "## Part B: Plotting Accuracy agaist Training Epochs"
   ]
  },
  {
   "cell_type": "code",
   "execution_count": 25,
   "metadata": {},
   "outputs": [
    {
     "data": {
      "image/png": "[encoded data removed]",
      "text/plain": [
       "<Figure size 576x396 with 1 Axes>"
      ]
     },
     "metadata": {},
     "output_type": "display_data"
    }
   ],
   "source": [
    "plt.style.use(\"seaborn\")\n",
    "\n",
    "# Extracting Train & Test Accuracy from model history\n",
    "accuracy = history.history['accuracy']\n",
    "val_accuracy = history.history['val_accuracy']\n",
    "\n",
    "# Plotting\n",
    "plt.plot(accuracy)\n",
    "plt.plot(val_accuracy)\n",
    "\n",
    "# Labelling\n",
    "plt.title('Accuracy')\n",
    "plt.ylabel('Accuracy')\n",
    "plt.xlabel('Epoch')\n",
    "plt.legend(['train', 'test'], loc='lower right')\n",
    "plt.yticks(np.arange(0.2, 0.9, 0.1))\n",
    "\n",
    "plt.show()"
   ]
  },
  {
   "cell_type": "markdown",
   "metadata": {},
   "source": [
    "From the plot shown above, we observe that after 50 epochs, the `train accuracy` remains in the range of about <70% to 75%>, and the `test accuracy` remains lower in the range of about <65% to 70%>. As the `test accuracy` is a bit lower to `train accuracy`, the model is slightly overfitting. The `test accuracy` does not increase/decrease significantly after `30` epochs, therefore, it converges."
   ]
  },
  {
   "cell_type": "markdown",
   "metadata": {},
   "source": [
    "## Part C: Plotting Loss agaist Training Epochs"
   ]
  },
  {
   "cell_type": "code",
   "execution_count": 26,
   "metadata": {},
   "outputs": [
    {
     "data": {
      "image/png": "[encoded data removed]",
      "text/plain": [
       "<Figure size 576x396 with 1 Axes>"
      ]
     },
     "metadata": {},
     "output_type": "display_data"
    }
   ],
   "source": [
    "plt.style.use(\"seaborn\")\n",
    "\n",
    "# Extracting Train & Test Loss from model history\n",
    "loss = history.history['loss']\n",
    "val_loss = history.history['val_loss']\n",
    "\n",
    "# Plotting\n",
    "plt.plot(loss)\n",
    "plt.plot(val_loss)\n",
    "\n",
    "# Labelling\n",
    "plt.title('Loss')\n",
    "plt.ylabel('Sparse Categorical Crossentropy Loss')\n",
    "plt.xlabel('Epoch')\n",
    "plt.legend(['train', 'test'], loc='upper right')\n",
    "plt.xticks(np.arange(0, 50+1, 5.0))\n",
    "\n",
    "plt.show()"
   ]
  },
  {
   "cell_type": "markdown",
   "metadata": {},
   "source": [
    "From the graph above, we observe that the `test sparse crossentropy loss` (green line) begins to converge at around `20` epochs. Since the `test` loss keeps increasing and `train` loss keeps decreasing after the 25th epoch, the model is overfitting.\n",
    "\n",
    "Overfitting is one of the problems that occur during training of neural networks, which drives the training error of the network to a very small value at the expense of the test error. The network learns to respond correctly to the training inputs by remembering them too much but is unable to generalize to produce correct outputs to novel inputs. (Ref: Lecture 5 - Model Selection & Overfitting, Jagath Chandana Rajapakse)"
   ]
  },
  {
   "cell_type": "markdown",
   "metadata": {},
   "source": [
    "## End of Part A, Question 1. "
   ]
  }
 ],
 "metadata": {
  "colab": {
   "authorship_tag": "ABX9TyPBI19y+/jqNpPI0QeiLTYf",
   "collapsed_sections": [],
   "name": "StarterCode.ipynb",
   "provenance": []
  },
  "interpreter": {
   "hash": "7e616aa229b6c21d6a2224f5b1a42eeeae7d750913ae40552b402d63a7031d52"
  },
  "kernelspec": {
   "display_name": "Python 3.9.4 64-bit ('myenv': conda)",
   "name": "python3"
  },
  "language_info": {
   "codemirror_mode": {
    "name": "ipython",
    "version": 3
   },
   "file_extension": ".py",
   "mimetype": "text/x-python",
   "name": "python",
   "nbconvert_exporter": "python",
   "pygments_lexer": "ipython3",
   "version": "3.9.4"
  }
 },
 "nbformat": 4,
 "nbformat_minor": 1
}
