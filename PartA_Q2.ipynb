{
 "cells": [
  {
   "cell_type": "markdown",
   "metadata": {
    "id": "YM8unKH7nSIM"
   },
   "source": [
    "# CZ4042 Neural Networks & Deep Learning\n",
    "## Assignment - 1: Part A, Question 2\n",
    "\n",
    "> Gupta Jay  \n",
    "> U1822549K  \n",
    "> School of Computer Science and Engineering  \n",
    "> Nanyang Technological University, Singapore  "
   ]
  },
  {
   "cell_type": "markdown",
   "metadata": {},
   "source": [
    "## Imports"
   ]
  },
  {
   "cell_type": "code",
   "execution_count": 45,
   "metadata": {},
   "outputs": [],
   "source": [
    "# Setting the seed here is sufficient. \n",
    "# If you don't plan to use these starter code, make sure you add this cell.\n",
    "\n",
    "SEED = 42\n",
    "\n",
    "import os\n",
    "os.environ['TF_CUDNN_DETERMINISTIC'] = '1'\n",
    "\n",
    "import random \n",
    "random.seed(SEED)\n",
    "\n",
    "import numpy as np\n",
    "np.random.seed(SEED)\n",
    "\n",
    "import tensorflow as tf\n",
    "tf.random.set_seed(SEED)"
   ]
  },
  {
   "cell_type": "code",
   "execution_count": 46,
   "metadata": {},
   "outputs": [],
   "source": [
    "import pandas as pd\n",
    "import numpy as np\n",
    "import time\n",
    "\n",
    "# tensorflow libraries\n",
    "import tensorflow as tf\n",
    "import tensorflow.keras as keras\n",
    "from tensorflow.keras import layers\n",
    "from tensorflow.keras import Sequential\n",
    "\n",
    "# sklearn libraries are useful for preprocessing, performance measures, etc.\n",
    "from sklearn import preprocessing\n",
    "from sklearn.model_selection import KFold\n",
    "from sklearn.model_selection import train_test_split\n",
    "\n",
    "from matplotlib import pyplot as plt"
   ]
  },
  {
   "cell_type": "code",
   "execution_count": 47,
   "metadata": {},
   "outputs": [
    {
     "name": "stdout",
     "output_type": "stream",
     "text": [
      "2.6.0\n"
     ]
    }
   ],
   "source": [
    "print(tf.__version__)"
   ]
  },
  {
   "cell_type": "code",
   "execution_count": 48,
   "metadata": {},
   "outputs": [],
   "source": [
    "# Supress any warnings for clean presentation\n",
    "import warnings\n",
    "warnings.filterwarnings(\"ignore\")"
   ]
  },
  {
   "cell_type": "code",
   "execution_count": 49,
   "metadata": {
    "id": "An4b9d12p8u2"
   },
   "outputs": [
    {
     "data": {
      "text/html": [
       "<div>\n",
       "<style scoped>\n",
       "    .dataframe tbody tr th:only-of-type {\n",
       "        vertical-align: middle;\n",
       "    }\n",
       "\n",
       "    .dataframe tbody tr th {\n",
       "        vertical-align: top;\n",
       "    }\n",
       "\n",
       "    .dataframe thead th {\n",
       "        text-align: right;\n",
       "    }\n",
       "</style>\n",
       "<table border=\"1\" class=\"dataframe\">\n",
       "  <thead>\n",
       "    <tr style=\"text-align: right;\">\n",
       "      <th></th>\n",
       "      <th>filename</th>\n",
       "      <th>length</th>\n",
       "      <th>chroma_stft_mean</th>\n",
       "      <th>chroma_stft_var</th>\n",
       "      <th>rms_mean</th>\n",
       "      <th>rms_var</th>\n",
       "      <th>spectral_centroid_mean</th>\n",
       "      <th>spectral_centroid_var</th>\n",
       "      <th>spectral_bandwidth_mean</th>\n",
       "      <th>spectral_bandwidth_var</th>\n",
       "      <th>...</th>\n",
       "      <th>mfcc16_var</th>\n",
       "      <th>mfcc17_mean</th>\n",
       "      <th>mfcc17_var</th>\n",
       "      <th>mfcc18_mean</th>\n",
       "      <th>mfcc18_var</th>\n",
       "      <th>mfcc19_mean</th>\n",
       "      <th>mfcc19_var</th>\n",
       "      <th>mfcc20_mean</th>\n",
       "      <th>mfcc20_var</th>\n",
       "      <th>label</th>\n",
       "    </tr>\n",
       "  </thead>\n",
       "  <tbody>\n",
       "    <tr>\n",
       "      <th>0</th>\n",
       "      <td>blues.00000.wav</td>\n",
       "      <td>661794</td>\n",
       "      <td>0.350088</td>\n",
       "      <td>0.088757</td>\n",
       "      <td>0.130228</td>\n",
       "      <td>0.002827</td>\n",
       "      <td>1784.165850</td>\n",
       "      <td>129774.064525</td>\n",
       "      <td>2002.449060</td>\n",
       "      <td>85882.761315</td>\n",
       "      <td>...</td>\n",
       "      <td>52.420910</td>\n",
       "      <td>-1.690215</td>\n",
       "      <td>36.524071</td>\n",
       "      <td>-0.408979</td>\n",
       "      <td>41.597103</td>\n",
       "      <td>-2.303523</td>\n",
       "      <td>55.062923</td>\n",
       "      <td>1.221291</td>\n",
       "      <td>46.936035</td>\n",
       "      <td>blues</td>\n",
       "    </tr>\n",
       "    <tr>\n",
       "      <th>1</th>\n",
       "      <td>blues.00001.wav</td>\n",
       "      <td>661794</td>\n",
       "      <td>0.340914</td>\n",
       "      <td>0.094980</td>\n",
       "      <td>0.095948</td>\n",
       "      <td>0.002373</td>\n",
       "      <td>1530.176679</td>\n",
       "      <td>375850.073649</td>\n",
       "      <td>2039.036516</td>\n",
       "      <td>213843.755497</td>\n",
       "      <td>...</td>\n",
       "      <td>55.356403</td>\n",
       "      <td>-0.731125</td>\n",
       "      <td>60.314529</td>\n",
       "      <td>0.295073</td>\n",
       "      <td>48.120598</td>\n",
       "      <td>-0.283518</td>\n",
       "      <td>51.106190</td>\n",
       "      <td>0.531217</td>\n",
       "      <td>45.786282</td>\n",
       "      <td>blues</td>\n",
       "    </tr>\n",
       "    <tr>\n",
       "      <th>2</th>\n",
       "      <td>blues.00002.wav</td>\n",
       "      <td>661794</td>\n",
       "      <td>0.363637</td>\n",
       "      <td>0.085275</td>\n",
       "      <td>0.175570</td>\n",
       "      <td>0.002746</td>\n",
       "      <td>1552.811865</td>\n",
       "      <td>156467.643368</td>\n",
       "      <td>1747.702312</td>\n",
       "      <td>76254.192257</td>\n",
       "      <td>...</td>\n",
       "      <td>40.598766</td>\n",
       "      <td>-7.729093</td>\n",
       "      <td>47.639427</td>\n",
       "      <td>-1.816407</td>\n",
       "      <td>52.382141</td>\n",
       "      <td>-3.439720</td>\n",
       "      <td>46.639660</td>\n",
       "      <td>-2.231258</td>\n",
       "      <td>30.573025</td>\n",
       "      <td>blues</td>\n",
       "    </tr>\n",
       "    <tr>\n",
       "      <th>3</th>\n",
       "      <td>blues.00003.wav</td>\n",
       "      <td>661794</td>\n",
       "      <td>0.404785</td>\n",
       "      <td>0.093999</td>\n",
       "      <td>0.141093</td>\n",
       "      <td>0.006346</td>\n",
       "      <td>1070.106615</td>\n",
       "      <td>184355.942417</td>\n",
       "      <td>1596.412872</td>\n",
       "      <td>166441.494769</td>\n",
       "      <td>...</td>\n",
       "      <td>44.427753</td>\n",
       "      <td>-3.319597</td>\n",
       "      <td>50.206673</td>\n",
       "      <td>0.636965</td>\n",
       "      <td>37.319130</td>\n",
       "      <td>-0.619121</td>\n",
       "      <td>37.259739</td>\n",
       "      <td>-3.407448</td>\n",
       "      <td>31.949339</td>\n",
       "      <td>blues</td>\n",
       "    </tr>\n",
       "    <tr>\n",
       "      <th>4</th>\n",
       "      <td>blues.00004.wav</td>\n",
       "      <td>661794</td>\n",
       "      <td>0.308526</td>\n",
       "      <td>0.087841</td>\n",
       "      <td>0.091529</td>\n",
       "      <td>0.002303</td>\n",
       "      <td>1835.004266</td>\n",
       "      <td>343399.939274</td>\n",
       "      <td>1748.172116</td>\n",
       "      <td>88445.209036</td>\n",
       "      <td>...</td>\n",
       "      <td>86.099236</td>\n",
       "      <td>-5.454034</td>\n",
       "      <td>75.269707</td>\n",
       "      <td>-0.916874</td>\n",
       "      <td>53.613918</td>\n",
       "      <td>-4.404827</td>\n",
       "      <td>62.910812</td>\n",
       "      <td>-11.703234</td>\n",
       "      <td>55.195160</td>\n",
       "      <td>blues</td>\n",
       "    </tr>\n",
       "  </tbody>\n",
       "</table>\n",
       "<p>5 rows × 60 columns</p>\n",
       "</div>"
      ],
      "text/plain": [
       "          filename  length  chroma_stft_mean  chroma_stft_var  rms_mean  \\\n",
       "0  blues.00000.wav  661794          0.350088         0.088757  0.130228   \n",
       "1  blues.00001.wav  661794          0.340914         0.094980  0.095948   \n",
       "2  blues.00002.wav  661794          0.363637         0.085275  0.175570   \n",
       "3  blues.00003.wav  661794          0.404785         0.093999  0.141093   \n",
       "4  blues.00004.wav  661794          0.308526         0.087841  0.091529   \n",
       "\n",
       "    rms_var  spectral_centroid_mean  spectral_centroid_var  \\\n",
       "0  0.002827             1784.165850          129774.064525   \n",
       "1  0.002373             1530.176679          375850.073649   \n",
       "2  0.002746             1552.811865          156467.643368   \n",
       "3  0.006346             1070.106615          184355.942417   \n",
       "4  0.002303             1835.004266          343399.939274   \n",
       "\n",
       "   spectral_bandwidth_mean  spectral_bandwidth_var  ...  mfcc16_var  \\\n",
       "0              2002.449060            85882.761315  ...   52.420910   \n",
       "1              2039.036516           213843.755497  ...   55.356403   \n",
       "2              1747.702312            76254.192257  ...   40.598766   \n",
       "3              1596.412872           166441.494769  ...   44.427753   \n",
       "4              1748.172116            88445.209036  ...   86.099236   \n",
       "\n",
       "   mfcc17_mean  mfcc17_var  mfcc18_mean  mfcc18_var  mfcc19_mean  mfcc19_var  \\\n",
       "0    -1.690215   36.524071    -0.408979   41.597103    -2.303523   55.062923   \n",
       "1    -0.731125   60.314529     0.295073   48.120598    -0.283518   51.106190   \n",
       "2    -7.729093   47.639427    -1.816407   52.382141    -3.439720   46.639660   \n",
       "3    -3.319597   50.206673     0.636965   37.319130    -0.619121   37.259739   \n",
       "4    -5.454034   75.269707    -0.916874   53.613918    -4.404827   62.910812   \n",
       "\n",
       "   mfcc20_mean  mfcc20_var  label  \n",
       "0     1.221291   46.936035  blues  \n",
       "1     0.531217   45.786282  blues  \n",
       "2    -2.231258   30.573025  blues  \n",
       "3    -3.407448   31.949339  blues  \n",
       "4   -11.703234   55.195160  blues  \n",
       "\n",
       "[5 rows x 60 columns]"
      ]
     },
     "execution_count": 49,
     "metadata": {},
     "output_type": "execute_result"
    }
   ],
   "source": [
    "df = pd.read_csv('./features_30_sec.csv')\n",
    "df.head()"
   ]
  },
  {
   "cell_type": "code",
   "execution_count": 50,
   "metadata": {
    "id": "CHZQbQVzqGIA"
   },
   "outputs": [
    {
     "data": {
      "text/plain": [
       "blues        100\n",
       "classical    100\n",
       "country      100\n",
       "disco        100\n",
       "hiphop       100\n",
       "jazz         100\n",
       "metal        100\n",
       "pop          100\n",
       "reggae       100\n",
       "rock         100\n",
       "Name: label, dtype: int64"
      ]
     },
     "execution_count": 50,
     "metadata": {},
     "output_type": "execute_result"
    }
   ],
   "source": [
    "df['label'].value_counts()"
   ]
  },
  {
   "cell_type": "markdown",
   "metadata": {
    "id": "1zp_RDMgqL9Z"
   },
   "source": [
    "Split and scale dataset"
   ]
  },
  {
   "cell_type": "code",
   "execution_count": 51,
   "metadata": {
    "id": "2fNTd9t7qHCI"
   },
   "outputs": [],
   "source": [
    "columns_to_drop = ['label','filename', 'length']\n",
    "\n",
    "def prepare_dataset(df, columns_to_drop, test_size, random_state):\n",
    "\n",
    "    # Encode the labels from 0 to n_classes-1  \n",
    "    label_encoder = preprocessing.LabelEncoder()\n",
    "    df['label'] = label_encoder.fit_transform(df['label'])\n",
    "  \n",
    "    # devide data to train and test\n",
    "    df_train, df_test = train_test_split(df, test_size=test_size, random_state=random_state)\n",
    "    \n",
    "    # scale the training inputs\n",
    "    x_train = df_train.drop(columns_to_drop,axis=1)\n",
    "    y_train = df_train['label'].to_numpy()\n",
    "    \n",
    "    standard_scaler = preprocessing.StandardScaler()\n",
    "    x_train_scaled = standard_scaler.fit_transform(x_train)\n",
    "\n",
    "    #scale and prepare testing data\n",
    "    x_test = df_test.drop(columns_to_drop,axis=1)\n",
    "    x_test_scaled = standard_scaler.transform(x_test)\n",
    "    y_test = df_test['label'].to_numpy() \n",
    "  \n",
    "    return x_train_scaled, y_train, x_test_scaled, y_test"
   ]
  },
  {
   "cell_type": "code",
   "execution_count": 52,
   "metadata": {
    "id": "2fNTd9t7qHCI"
   },
   "outputs": [
    {
     "name": "stdout",
     "output_type": "stream",
     "text": [
      "(700, 57) (700,)\n",
      "(300, 57) (300,)\n"
     ]
    }
   ],
   "source": [
    "X_train, y_train, X_test, y_test = prepare_dataset(df, columns_to_drop, test_size=0.3, random_state=0)\n",
    "\n",
    "print(X_train.shape, y_train.shape)\n",
    "print(X_test.shape, y_test.shape)"
   ]
  },
  {
   "cell_type": "code",
   "execution_count": 53,
   "metadata": {},
   "outputs": [],
   "source": [
    "def getModel(first_layer_activation, second_layer_activation):\n",
    "    # Inputs -> Dense -> Dropout -> Dense (Output)\n",
    "    model = keras.Sequential()\n",
    "    model.add(layers.Dense(16, activation=first_layer_activation, input_dim=X_train.shape[1]))\n",
    "    model.add(layers.Dropout(0.3))\n",
    "    model.add(layers.Dense(df['label'].nunique(), activation=second_layer_activation))\n",
    "    return model\n",
    "\n",
    "def getOptimizer():\n",
    "    # Adam Optimizer (Default Parameters) -> Stochastic Gradient Descent\n",
    "    optimizer = keras.optimizers.Adam()\n",
    "    return optimizer"
   ]
  },
  {
   "cell_type": "markdown",
   "metadata": {},
   "source": [
    "## Part A: Search for the Optimal Batch Size\n",
    "\n",
    "> Reference for K-Fold Cross Validation: https://www.machinecurve.com/index.php/2020/02/18/how-to-use-k-fold-cross-validation-with-keras/"
   ]
  },
  {
   "cell_type": "code",
   "execution_count": 54,
   "metadata": {},
   "outputs": [],
   "source": [
    "# Search Space\n",
    "batch_sizes = [1, 4, 8, 16, 32, 64]\n",
    "\n",
    "# Hyperparameters\n",
    "epochs = 50\n",
    "n_splits = 3\n",
    "verbose = 0\n",
    "loss = \"sparse_categorical_crossentropy\"\n",
    "metrics = [\"accuracy\"]\n",
    "optimizer = getOptimizer()\n",
    "\n",
    "histories_part_a = {} "
   ]
  },
  {
   "cell_type": "code",
   "execution_count": 55,
   "metadata": {},
   "outputs": [],
   "source": [
    "# 3-fold cross-validation on training partition\n",
    "kfold = KFold(n_splits=n_splits, shuffle=True, random_state=0)"
   ]
  },
  {
   "cell_type": "code",
   "execution_count": 59,
   "metadata": {},
   "outputs": [
    {
     "name": "stdout",
     "output_type": "stream",
     "text": [
      "\n",
      "Batch Size: 1\n",
      "---------------\n",
      "Training Complete: Fold 1\n",
      "Training Complete: Fold 2\n",
      "Training Complete: Fold 3\n",
      "\n",
      "Batch Size: 4\n",
      "---------------\n",
      "Training Complete: Fold 1\n",
      "Training Complete: Fold 2\n",
      "Training Complete: Fold 3\n",
      "\n",
      "Batch Size: 8\n",
      "---------------\n",
      "Training Complete: Fold 1\n",
      "Training Complete: Fold 2\n",
      "Training Complete: Fold 3\n",
      "\n",
      "Batch Size: 16\n",
      "---------------\n",
      "Training Complete: Fold 1\n",
      "Training Complete: Fold 2\n",
      "Training Complete: Fold 3\n",
      "\n",
      "Batch Size: 32\n",
      "---------------\n",
      "Training Complete: Fold 1\n",
      "Training Complete: Fold 2\n",
      "Training Complete: Fold 3\n",
      "\n",
      "Batch Size: 64\n",
      "---------------\n",
      "Training Complete: Fold 1\n",
      "Training Complete: Fold 2\n",
      "Training Complete: Fold 3\n"
     ]
    }
   ],
   "source": [
    "# Experiment on batch sizes\n",
    "# Iterating through all batch sizes\n",
    "for batch_size in batch_sizes:\n",
    "    batch_specific_history = {}\n",
    "    fold_counter = 1\n",
    "\n",
    "    print(\"\\nBatch Size: %0.0f\" % batch_size)\n",
    "    print(\"---------------\")\n",
    "\n",
    "    # Iterating through each split of training data\n",
    "    for train, test in kfold.split(X_train, y_train):\n",
    "        # Initialize model and fitting\n",
    "        model = getModel(\"relu\", \"softmax\")\n",
    "        model.compile(loss=loss, optimizer=optimizer, metrics=metrics)\n",
    "        history = model.fit(X_train[train], y_train[train], batch_size=batch_size, epochs=epochs, verbose=verbose, validation_data=(X_train[test], y_train[test]))\n",
    "        \n",
    "        print(\"Training Complete: Fold %0.0f\" % fold_counter)\n",
    "        \n",
    "        # Storing history of every k-fold\n",
    "        batch_specific_history[fold_counter] = history\n",
    "        fold_counter += 1\n",
    "\n",
    "    # Storing history for every batch size\n",
    "    histories_part_a[batch_size] = batch_specific_history"
   ]
  },
  {
   "cell_type": "markdown",
   "metadata": {},
   "source": [
    "### Mean Cross-Validation Accuracies"
   ]
  },
  {
   "cell_type": "code",
   "execution_count": 60,
   "metadata": {},
   "outputs": [],
   "source": [
    "accuracy_per_batch = []\n",
    "\n",
    "# Iterating through all the batches\n",
    "for batch_size in batch_sizes:\n",
    "    accuracy_per_epoch = []\n",
    "    \n",
    "    # Extract k-fold history for a batch\n",
    "    batch_histories = histories_part_a[batch_size]\n",
    "\n",
    "    # Calculate mean across 3-fold accuracies for each epoch\n",
    "    for i in range(epochs):\n",
    "        accuracies = [batch_histories[1].history['val_accuracy'][i], batch_histories[2].history['val_accuracy'][i], batch_histories[3].history['val_accuracy'][i]]\n",
    "        accuracy_per_epoch.append(np.mean(accuracies))\n",
    "\n",
    "    # Store mean for each epoch, per batch    \n",
    "    accuracy_per_batch.append(accuracy_per_epoch)"
   ]
  },
  {
   "cell_type": "code",
   "execution_count": 61,
   "metadata": {},
   "outputs": [
    {
     "data": {
      "text/plain": [
       "<matplotlib.legend.Legend at 0x7f9e5c36a7f0>"
      ]
     },
     "execution_count": 61,
     "metadata": {},
     "output_type": "execute_result"
    },
    {
     "data": {
      "image/png": "[encoded data removed]",
      "text/plain": [
       "<Figure size 576x396 with 1 Axes>"
      ]
     },
     "metadata": {},
     "output_type": "display_data"
    }
   ],
   "source": [
    "plt.style.use(\"seaborn\")\n",
    "\n",
    "# Plotting\n",
    "for i in range(len(batch_sizes)):\n",
    "    plt.plot(accuracy_per_batch[i])\n",
    "\n",
    "# Labelling\n",
    "plt.title('Accuracy')\n",
    "plt.ylabel('Accuracy')\n",
    "plt.xlabel('Epoch')\n",
    "plt.xticks(np.arange(0, 50+1, 5.0))\n",
    "\n",
    "# Legend for easy reading\n",
    "plt.legend(['Batch Size: 1', 'Batch Size: 4', 'Batch Size: 8', 'Batch Size: 16', 'Batch Size: 32', 'Batch Size: 64'], loc='lower right')"
   ]
  },
  {
   "cell_type": "markdown",
   "metadata": {},
   "source": [
    "## Part B: Median Time Taken to Train the Network\n",
    "\n",
    "> Reference: https://stackoverflow.com/questions/43178668/record-the-computation-time-for-each-epoch-in-keras-during-model-fit"
   ]
  },
  {
   "cell_type": "code",
   "execution_count": 62,
   "metadata": {},
   "outputs": [],
   "source": [
    "# Callback to measure time for every epoch\n",
    "class TimeHistory(keras.callbacks.Callback):\n",
    "    # Initialize empty list of times when training begins\n",
    "    def on_train_begin(self, logs={}):\n",
    "        self.times = []\n",
    "\n",
    "    # Start time on start of epoch\n",
    "    def on_epoch_begin(self, batch, logs={}):\n",
    "        self.epoch_time_start = time.time()\n",
    "\n",
    "    # End time and measure on end of epoch\n",
    "    def on_epoch_end(self, batch, logs={}):\n",
    "        self.times.append(time.time() - self.epoch_time_start)\n",
    "\n",
    "time_callback = TimeHistory()\n",
    "\n",
    "# Callback\n",
    "callbacks = [time_callback]"
   ]
  },
  {
   "cell_type": "code",
   "execution_count": 63,
   "metadata": {},
   "outputs": [
    {
     "name": "stdout",
     "output_type": "stream",
     "text": [
      "\n",
      "Batch Size: 1\n",
      "---------------\n",
      "Training Complete: Fold 1\n",
      "Training Complete: Fold 2\n",
      "Training Complete: Fold 3\n",
      "\n",
      "Batch Size: 4\n",
      "---------------\n",
      "Training Complete: Fold 1\n",
      "Training Complete: Fold 2\n",
      "Training Complete: Fold 3\n",
      "\n",
      "Batch Size: 8\n",
      "---------------\n",
      "Training Complete: Fold 1\n",
      "Training Complete: Fold 2\n",
      "Training Complete: Fold 3\n",
      "\n",
      "Batch Size: 16\n",
      "---------------\n",
      "Training Complete: Fold 1\n",
      "Training Complete: Fold 2\n",
      "Training Complete: Fold 3\n",
      "\n",
      "Batch Size: 32\n",
      "---------------\n",
      "Training Complete: Fold 1\n",
      "Training Complete: Fold 2\n",
      "Training Complete: Fold 3\n",
      "\n",
      "Batch Size: 64\n",
      "---------------\n",
      "Training Complete: Fold 1\n",
      "Training Complete: Fold 2\n",
      "Training Complete: Fold 3\n"
     ]
    }
   ],
   "source": [
    "histories_part_b = {} \n",
    "\n",
    "# Experiment on batch sizes\n",
    "# Iterating through all batch sizes\n",
    "for batch_size in batch_sizes:\n",
    "    batch_specific_history = {}\n",
    "    fold_counter = 1\n",
    "\n",
    "    print(\"\\nBatch Size: %0.0f\" % batch_size)\n",
    "    print(\"---------------\")\n",
    "    \n",
    "    # Iterating through each split of training data\n",
    "    for train, test in kfold.split(X_train, y_train):\n",
    "        # Initialize model and fitting\n",
    "        model = getModel(\"relu\", \"softmax\")\n",
    "        model.compile(loss=loss, optimizer=optimizer, metrics=metrics)\n",
    "        history = model.fit(X_train[train], y_train[train], callbacks=callbacks, batch_size=batch_size, epochs=epochs, verbose=verbose, validation_data=(X_train[test], y_train[test]))\n",
    "        \n",
    "        print(\"Training Complete: Fold %0.0f\" % fold_counter)\n",
    "        \n",
    "        # Storing time history of every k-fold\n",
    "        batch_specific_history[fold_counter] = time_callback.times\n",
    "        fold_counter += 1\n",
    "\n",
    "    # Store time history for every batch\n",
    "    histories_part_b[batch_size] = batch_specific_history"
   ]
  },
  {
   "cell_type": "code",
   "execution_count": 64,
   "metadata": {},
   "outputs": [],
   "source": [
    "time_per_batch = {}\n",
    "\n",
    "# Iterating through all the batches\n",
    "for batch_size in batch_sizes:\n",
    "    time_per_epoch = []\n",
    "\n",
    "    # Extract k-fold history for a batch\n",
    "    batch_histories = histories_part_b[batch_size]\n",
    "\n",
    "    # Calculate mean across 3-fold accuracies for each epoch\n",
    "    for i in range(epochs):\n",
    "        times = [batch_histories[1][i], batch_histories[2][i], batch_histories[3][i]]\n",
    "        time_per_epoch.append(np.mean(times))\n",
    "    \n",
    "    # Store mean for each epoch, per batch\n",
    "    time_per_batch[batch_size] = np.median(time_per_epoch)\n"
   ]
  },
  {
   "cell_type": "code",
   "execution_count": 65,
   "metadata": {},
   "outputs": [
    {
     "data": {
      "text/html": [
       "<div>\n",
       "<style scoped>\n",
       "    .dataframe tbody tr th:only-of-type {\n",
       "        vertical-align: middle;\n",
       "    }\n",
       "\n",
       "    .dataframe tbody tr th {\n",
       "        vertical-align: top;\n",
       "    }\n",
       "\n",
       "    .dataframe thead th {\n",
       "        text-align: right;\n",
       "    }\n",
       "</style>\n",
       "<table border=\"1\" class=\"dataframe\">\n",
       "  <thead>\n",
       "    <tr style=\"text-align: right;\">\n",
       "      <th></th>\n",
       "      <th>Batch Size</th>\n",
       "      <th>Median Time (seconds)</th>\n",
       "    </tr>\n",
       "  </thead>\n",
       "  <tbody>\n",
       "    <tr>\n",
       "      <th>0</th>\n",
       "      <td>1</td>\n",
       "      <td>0.650596</td>\n",
       "    </tr>\n",
       "    <tr>\n",
       "      <th>1</th>\n",
       "      <td>4</td>\n",
       "      <td>0.195390</td>\n",
       "    </tr>\n",
       "    <tr>\n",
       "      <th>2</th>\n",
       "      <td>8</td>\n",
       "      <td>0.117447</td>\n",
       "    </tr>\n",
       "    <tr>\n",
       "      <th>3</th>\n",
       "      <td>16</td>\n",
       "      <td>0.077018</td>\n",
       "    </tr>\n",
       "    <tr>\n",
       "      <th>4</th>\n",
       "      <td>32</td>\n",
       "      <td>0.053871</td>\n",
       "    </tr>\n",
       "    <tr>\n",
       "      <th>5</th>\n",
       "      <td>64</td>\n",
       "      <td>0.045880</td>\n",
       "    </tr>\n",
       "  </tbody>\n",
       "</table>\n",
       "</div>"
      ],
      "text/plain": [
       "   Batch Size  Median Time (seconds)\n",
       "0           1               0.650596\n",
       "1           4               0.195390\n",
       "2           8               0.117447\n",
       "3          16               0.077018\n",
       "4          32               0.053871\n",
       "5          64               0.045880"
      ]
     },
     "execution_count": 65,
     "metadata": {},
     "output_type": "execute_result"
    }
   ],
   "source": [
    "# Convert the dictionary to a table representation\n",
    "median_times = pd.DataFrame(time_per_batch.items(), columns=['Batch Size', 'Median Time (seconds)'])\n",
    "median_times"
   ]
  },
  {
   "cell_type": "markdown",
   "metadata": {},
   "source": [
    "## Part C: Optimal Batch Size\n",
    "\n",
    "**Optimal Batch Size**: `4`  \n",
    "\n",
    "There are two main criteras I've used to select the optimal batch size:\n",
    "* Mean Cross-Validation Accuracies `(part (a))`\n",
    "* Mean Time Taken `(part (b))`\n",
    "\n",
    "Firstly, The Mean Cross-Validation accuracies over the training epochs is lower for batch sizes of `16`, `32`, and `64`. For batch sizes `4` and `8`, the accuracies are similar to each other. However, the accuracy graph is highest and smoother for batch size of `4`. \n",
    "\n",
    "Secondly, I observe that the median time to train our model decreases significantly when the batch size is increased. This is reasonable as Stochastic Gradient Descent algorithm is more expensive, and for batch sizes greater than 1, Mini-Batch Gradient Descent algorithm will be expensive as well for smaller batch sizes. From batch size `1` to `4`, the `median time` reduces to more than `3` times."
   ]
  },
  {
   "cell_type": "markdown",
   "metadata": {},
   "source": [
    "## Part D: Mini-Batch Gradient Descent and Stochastic Gradient Descent\n",
    "\n",
    "* **Stochastic Gradient Descent**: We consider `one` training example at a time to do forward and backward propagation and update the weights of the model. SGD is computationally expensive and requires more training time. Furthermore, since the weights are being updated so frequently, the loss/cost keeps fluctuating over the epochs. \n",
    "\n",
    "\n",
    "* **Mini-Batch Gradient Descent**: We consider `n` training examples (mini-batchs) at a time to do forward and backward propagation and update the weights of the model by taking the mean of gradients of each mini-batch. It is less computationally expensive than SGD. The average cost over the epochs keeps fluctuating as well due to frequent updates, however, the intensity of the fluctuations are lower than SGD. "
   ]
  },
  {
   "cell_type": "markdown",
   "metadata": {},
   "source": [
    "## Part E: Plot Train & Test Accuracies "
   ]
  },
  {
   "cell_type": "code",
   "execution_count": 68,
   "metadata": {},
   "outputs": [
    {
     "name": "stdout",
     "output_type": "stream",
     "text": [
      "Epoch 1/50\n",
      "175/175 [==============================] - 1s 1ms/step - loss: 2.3457 - accuracy: 0.1671 - val_loss: 2.0425 - val_accuracy: 0.2333\n",
      "Epoch 2/50\n",
      "175/175 [==============================] - 0s 996us/step - loss: 1.9300 - accuracy: 0.3114 - val_loss: 1.7870 - val_accuracy: 0.3800\n",
      "Epoch 3/50\n",
      "175/175 [==============================] - 0s 1ms/step - loss: 1.7689 - accuracy: 0.3671 - val_loss: 1.5995 - val_accuracy: 0.4467\n",
      "Epoch 4/50\n",
      "175/175 [==============================] - 0s 1ms/step - loss: 1.6418 - accuracy: 0.4114 - val_loss: 1.4935 - val_accuracy: 0.4633\n",
      "Epoch 5/50\n",
      "175/175 [==============================] - 0s 910us/step - loss: 1.4903 - accuracy: 0.4857 - val_loss: 1.4232 - val_accuracy: 0.4967\n",
      "Epoch 6/50\n",
      "175/175 [==============================] - 0s 873us/step - loss: 1.4140 - accuracy: 0.4871 - val_loss: 1.3582 - val_accuracy: 0.5433\n",
      "Epoch 7/50\n",
      "175/175 [==============================] - 0s 1ms/step - loss: 1.3007 - accuracy: 0.5314 - val_loss: 1.3177 - val_accuracy: 0.5300\n",
      "Epoch 8/50\n",
      "175/175 [==============================] - 0s 882us/step - loss: 1.2739 - accuracy: 0.5429 - val_loss: 1.2704 - val_accuracy: 0.5800\n",
      "Epoch 9/50\n",
      "175/175 [==============================] - 0s 888us/step - loss: 1.2248 - accuracy: 0.5586 - val_loss: 1.2433 - val_accuracy: 0.5667\n",
      "Epoch 10/50\n",
      "175/175 [==============================] - 0s 907us/step - loss: 1.2209 - accuracy: 0.5543 - val_loss: 1.2178 - val_accuracy: 0.5767\n",
      "Epoch 11/50\n",
      "175/175 [==============================] - 0s 964us/step - loss: 1.2000 - accuracy: 0.5529 - val_loss: 1.1937 - val_accuracy: 0.5900\n",
      "Epoch 12/50\n",
      "175/175 [==============================] - 0s 995us/step - loss: 1.1317 - accuracy: 0.5629 - val_loss: 1.1979 - val_accuracy: 0.5800\n",
      "Epoch 13/50\n",
      "175/175 [==============================] - 0s 895us/step - loss: 1.1410 - accuracy: 0.5986 - val_loss: 1.1756 - val_accuracy: 0.6000\n",
      "Epoch 14/50\n",
      "175/175 [==============================] - 0s 909us/step - loss: 1.0986 - accuracy: 0.6157 - val_loss: 1.1696 - val_accuracy: 0.5867\n",
      "Epoch 15/50\n",
      "175/175 [==============================] - 0s 945us/step - loss: 1.1099 - accuracy: 0.5957 - val_loss: 1.1469 - val_accuracy: 0.6033\n",
      "Epoch 16/50\n",
      "175/175 [==============================] - 0s 888us/step - loss: 1.0487 - accuracy: 0.6214 - val_loss: 1.1458 - val_accuracy: 0.6100\n",
      "Epoch 17/50\n",
      "175/175 [==============================] - 0s 848us/step - loss: 1.0668 - accuracy: 0.6043 - val_loss: 1.1492 - val_accuracy: 0.6100\n",
      "Epoch 18/50\n",
      "175/175 [==============================] - 0s 837us/step - loss: 1.0159 - accuracy: 0.6214 - val_loss: 1.1200 - val_accuracy: 0.6200\n",
      "Epoch 19/50\n",
      "175/175 [==============================] - 0s 845us/step - loss: 1.0463 - accuracy: 0.6314 - val_loss: 1.1335 - val_accuracy: 0.6100\n",
      "Epoch 20/50\n",
      "175/175 [==============================] - 0s 844us/step - loss: 1.0696 - accuracy: 0.5886 - val_loss: 1.1227 - val_accuracy: 0.6100\n",
      "Epoch 21/50\n",
      "175/175 [==============================] - 0s 844us/step - loss: 0.9890 - accuracy: 0.6529 - val_loss: 1.1093 - val_accuracy: 0.6100\n",
      "Epoch 22/50\n",
      "175/175 [==============================] - 0s 845us/step - loss: 0.9745 - accuracy: 0.6400 - val_loss: 1.1184 - val_accuracy: 0.6200\n",
      "Epoch 23/50\n",
      "175/175 [==============================] - 0s 841us/step - loss: 0.9777 - accuracy: 0.6557 - val_loss: 1.1078 - val_accuracy: 0.6000\n",
      "Epoch 24/50\n",
      "175/175 [==============================] - 0s 840us/step - loss: 0.9310 - accuracy: 0.6629 - val_loss: 1.1019 - val_accuracy: 0.6167\n",
      "Epoch 25/50\n",
      "175/175 [==============================] - 0s 851us/step - loss: 0.9153 - accuracy: 0.6643 - val_loss: 1.0934 - val_accuracy: 0.6100\n",
      "Epoch 26/50\n",
      "175/175 [==============================] - 0s 858us/step - loss: 0.9185 - accuracy: 0.6629 - val_loss: 1.1003 - val_accuracy: 0.6267\n",
      "Epoch 27/50\n",
      "175/175 [==============================] - 0s 846us/step - loss: 0.9183 - accuracy: 0.6700 - val_loss: 1.0978 - val_accuracy: 0.6233\n",
      "Epoch 28/50\n",
      "175/175 [==============================] - 0s 855us/step - loss: 0.9435 - accuracy: 0.6571 - val_loss: 1.0860 - val_accuracy: 0.6200\n",
      "Epoch 29/50\n",
      "175/175 [==============================] - 0s 1ms/step - loss: 0.8768 - accuracy: 0.6914 - val_loss: 1.0837 - val_accuracy: 0.6233\n",
      "Epoch 30/50\n",
      "175/175 [==============================] - 0s 1ms/step - loss: 0.9251 - accuracy: 0.6443 - val_loss: 1.0799 - val_accuracy: 0.6300\n",
      "Epoch 31/50\n",
      "175/175 [==============================] - 0s 899us/step - loss: 0.8676 - accuracy: 0.6771 - val_loss: 1.0800 - val_accuracy: 0.6333\n",
      "Epoch 32/50\n",
      "175/175 [==============================] - 0s 1ms/step - loss: 0.8997 - accuracy: 0.6529 - val_loss: 1.0824 - val_accuracy: 0.6267\n",
      "Epoch 33/50\n",
      "175/175 [==============================] - 0s 992us/step - loss: 0.8636 - accuracy: 0.6743 - val_loss: 1.0757 - val_accuracy: 0.6367\n",
      "Epoch 34/50\n",
      "175/175 [==============================] - 0s 951us/step - loss: 0.9274 - accuracy: 0.6400 - val_loss: 1.0744 - val_accuracy: 0.6233\n",
      "Epoch 35/50\n",
      "175/175 [==============================] - 0s 936us/step - loss: 0.8975 - accuracy: 0.6771 - val_loss: 1.0763 - val_accuracy: 0.6500\n",
      "Epoch 36/50\n",
      "175/175 [==============================] - 0s 869us/step - loss: 0.8427 - accuracy: 0.6729 - val_loss: 1.0810 - val_accuracy: 0.6300\n",
      "Epoch 37/50\n",
      "175/175 [==============================] - 0s 870us/step - loss: 0.8279 - accuracy: 0.7186 - val_loss: 1.0731 - val_accuracy: 0.6500\n",
      "Epoch 38/50\n",
      "175/175 [==============================] - 0s 927us/step - loss: 0.8648 - accuracy: 0.6914 - val_loss: 1.0882 - val_accuracy: 0.6333\n",
      "Epoch 39/50\n",
      "175/175 [==============================] - 0s 876us/step - loss: 0.8132 - accuracy: 0.6957 - val_loss: 1.0959 - val_accuracy: 0.6333\n",
      "Epoch 40/50\n",
      "175/175 [==============================] - 0s 993us/step - loss: 0.8523 - accuracy: 0.6843 - val_loss: 1.0934 - val_accuracy: 0.6367\n",
      "Epoch 41/50\n",
      "175/175 [==============================] - 0s 933us/step - loss: 0.8518 - accuracy: 0.6786 - val_loss: 1.0981 - val_accuracy: 0.6400\n",
      "Epoch 42/50\n",
      "175/175 [==============================] - 0s 954us/step - loss: 0.8211 - accuracy: 0.7029 - val_loss: 1.1069 - val_accuracy: 0.6467\n",
      "Epoch 43/50\n",
      "175/175 [==============================] - 0s 1ms/step - loss: 0.8304 - accuracy: 0.6914 - val_loss: 1.1135 - val_accuracy: 0.6500\n",
      "Epoch 44/50\n",
      "175/175 [==============================] - 0s 1ms/step - loss: 0.8142 - accuracy: 0.6957 - val_loss: 1.0907 - val_accuracy: 0.6433\n",
      "Epoch 45/50\n",
      "175/175 [==============================] - 0s 889us/step - loss: 0.8129 - accuracy: 0.6914 - val_loss: 1.0989 - val_accuracy: 0.6233\n",
      "Epoch 46/50\n",
      "175/175 [==============================] - 0s 841us/step - loss: 0.7981 - accuracy: 0.7143 - val_loss: 1.1090 - val_accuracy: 0.6233\n",
      "Epoch 47/50\n",
      "175/175 [==============================] - 0s 919us/step - loss: 0.7704 - accuracy: 0.7043 - val_loss: 1.1210 - val_accuracy: 0.6267\n",
      "Epoch 48/50\n",
      "175/175 [==============================] - 0s 872us/step - loss: 0.8260 - accuracy: 0.6700 - val_loss: 1.0781 - val_accuracy: 0.6467\n",
      "Epoch 49/50\n",
      "175/175 [==============================] - 0s 1ms/step - loss: 0.7623 - accuracy: 0.7114 - val_loss: 1.1027 - val_accuracy: 0.6333\n",
      "Epoch 50/50\n",
      "175/175 [==============================] - 0s 1ms/step - loss: 0.7601 - accuracy: 0.7129 - val_loss: 1.1070 - val_accuracy: 0.6433\n"
     ]
    }
   ],
   "source": [
    "epochs = 50\n",
    "verbose = 1\n",
    "\n",
    "# Parameters for Optimal 2-layer network\n",
    "batch_size = 4\n",
    "\n",
    "loss = \"sparse_categorical_crossentropy\"\n",
    "metrics = [\"accuracy\"]\n",
    "optimizer = getOptimizer()\n",
    "\n",
    "model = getModel(\"relu\", \"softmax\")\n",
    "model.compile(loss=loss, optimizer=optimizer, metrics=metrics)\n",
    "history = model.fit(X_train, y_train, epochs=epochs, validation_data=(X_test, y_test), verbose=verbose, batch_size=batch_size)"
   ]
  },
  {
   "cell_type": "code",
   "execution_count": 69,
   "metadata": {},
   "outputs": [
    {
     "data": {
      "text/plain": [
       "<matplotlib.legend.Legend at 0x7f9e5b140c10>"
      ]
     },
     "execution_count": 69,
     "metadata": {},
     "output_type": "execute_result"
    },
    {
     "data": {
      "image/png": "[encoded data removed]",
      "text/plain": [
       "<Figure size 576x396 with 1 Axes>"
      ]
     },
     "metadata": {},
     "output_type": "display_data"
    }
   ],
   "source": [
    "plt.style.use(\"seaborn\")\n",
    "\n",
    "# Extracting Train & Test Accuracy from model history\n",
    "accuracy = history.history['accuracy']\n",
    "val_accuracy = history.history['val_accuracy']\n",
    "\n",
    "# Plotting\n",
    "plt.plot(accuracy)\n",
    "plt.plot(val_accuracy)\n",
    "\n",
    "# Labelling\n",
    "plt.title('Accuracy')\n",
    "plt.ylabel('Accuracy')\n",
    "plt.xlabel('Epoch')\n",
    "plt.xticks(np.arange(0, 50+1, 5.0))\n",
    "\n",
    "# Legend for easy reading\n",
    "plt.legend(['Train', 'Test'], loc='lower right')"
   ]
  },
  {
   "cell_type": "markdown",
   "metadata": {},
   "source": [
    "## End of Part A, Question 2. "
   ]
  }
 ],
 "metadata": {
  "colab": {
   "authorship_tag": "ABX9TyPBI19y+/jqNpPI0QeiLTYf",
   "collapsed_sections": [],
   "name": "StarterCode.ipynb",
   "provenance": []
  },
  "interpreter": {
   "hash": "7e616aa229b6c21d6a2224f5b1a42eeeae7d750913ae40552b402d63a7031d52"
  },
  "kernelspec": {
   "display_name": "Python 3.9.4 64-bit ('myenv': conda)",
   "name": "python3"
  },
  "language_info": {
   "codemirror_mode": {
    "name": "ipython",
    "version": 3
   },
   "file_extension": ".py",
   "mimetype": "text/x-python",
   "name": "python",
   "nbconvert_exporter": "python",
   "pygments_lexer": "ipython3",
   "version": "3.9.4"
  }
 },
 "nbformat": 4,
 "nbformat_minor": 1
}
