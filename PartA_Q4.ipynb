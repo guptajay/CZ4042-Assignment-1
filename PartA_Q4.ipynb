{
 "cells": [
  {
   "cell_type": "markdown",
   "metadata": {
    "id": "YM8unKH7nSIM"
   },
   "source": [
    "# CZ4042 Neural Networks & Deep Learning\n",
    "## Assignment - 1: Part A, Question 4\n",
    "\n",
    "> Gupta Jay  \n",
    "> U1822549K  \n",
    "> School of Computer Science and Engineering  \n",
    "> Nanyang Technological University, Singapore  "
   ]
  },
  {
   "cell_type": "markdown",
   "metadata": {},
   "source": [
    "## Imports"
   ]
  },
  {
   "cell_type": "code",
   "execution_count": 1,
   "metadata": {},
   "outputs": [],
   "source": [
    "# Setting the seed here is sufficient. \n",
    "# If you don't plan to use these starter code, make sure you add this cell.\n",
    "\n",
    "SEED = 42\n",
    "\n",
    "import os\n",
    "os.environ['TF_CUDNN_DETERMINISTIC'] = '1'\n",
    "\n",
    "import random \n",
    "random.seed(SEED)\n",
    "\n",
    "import numpy as np\n",
    "np.random.seed(SEED)\n",
    "\n",
    "import tensorflow as tf\n",
    "tf.random.set_seed(SEED)"
   ]
  },
  {
   "cell_type": "code",
   "execution_count": 2,
   "metadata": {},
   "outputs": [],
   "source": [
    "import pandas as pd\n",
    "import numpy as np\n",
    "import time\n",
    "\n",
    "# tensorflow libraries\n",
    "import tensorflow as tf\n",
    "import tensorflow.keras as keras\n",
    "from tensorflow.keras import layers\n",
    "from tensorflow.keras import Sequential\n",
    "\n",
    "# sklearn libraries are useful for preprocessing, performance measures, etc.\n",
    "from sklearn import preprocessing\n",
    "from sklearn.model_selection import KFold\n",
    "from sklearn.model_selection import train_test_split\n",
    "\n",
    "from matplotlib import pyplot as plt"
   ]
  },
  {
   "cell_type": "code",
   "execution_count": 3,
   "metadata": {},
   "outputs": [
    {
     "name": "stdout",
     "output_type": "stream",
     "text": [
      "2.6.0\n"
     ]
    }
   ],
   "source": [
    "print(tf.__version__)"
   ]
  },
  {
   "cell_type": "code",
   "execution_count": 4,
   "metadata": {},
   "outputs": [],
   "source": [
    "# Supress any warnings for clean presentation\n",
    "import warnings\n",
    "warnings.filterwarnings(\"ignore\")"
   ]
  },
  {
   "cell_type": "code",
   "execution_count": 5,
   "metadata": {
    "id": "An4b9d12p8u2"
   },
   "outputs": [
    {
     "data": {
      "text/html": [
       "<div>\n",
       "<style scoped>\n",
       "    .dataframe tbody tr th:only-of-type {\n",
       "        vertical-align: middle;\n",
       "    }\n",
       "\n",
       "    .dataframe tbody tr th {\n",
       "        vertical-align: top;\n",
       "    }\n",
       "\n",
       "    .dataframe thead th {\n",
       "        text-align: right;\n",
       "    }\n",
       "</style>\n",
       "<table border=\"1\" class=\"dataframe\">\n",
       "  <thead>\n",
       "    <tr style=\"text-align: right;\">\n",
       "      <th></th>\n",
       "      <th>filename</th>\n",
       "      <th>length</th>\n",
       "      <th>chroma_stft_mean</th>\n",
       "      <th>chroma_stft_var</th>\n",
       "      <th>rms_mean</th>\n",
       "      <th>rms_var</th>\n",
       "      <th>spectral_centroid_mean</th>\n",
       "      <th>spectral_centroid_var</th>\n",
       "      <th>spectral_bandwidth_mean</th>\n",
       "      <th>spectral_bandwidth_var</th>\n",
       "      <th>...</th>\n",
       "      <th>mfcc16_var</th>\n",
       "      <th>mfcc17_mean</th>\n",
       "      <th>mfcc17_var</th>\n",
       "      <th>mfcc18_mean</th>\n",
       "      <th>mfcc18_var</th>\n",
       "      <th>mfcc19_mean</th>\n",
       "      <th>mfcc19_var</th>\n",
       "      <th>mfcc20_mean</th>\n",
       "      <th>mfcc20_var</th>\n",
       "      <th>label</th>\n",
       "    </tr>\n",
       "  </thead>\n",
       "  <tbody>\n",
       "    <tr>\n",
       "      <th>0</th>\n",
       "      <td>blues.00000.wav</td>\n",
       "      <td>661794</td>\n",
       "      <td>0.350088</td>\n",
       "      <td>0.088757</td>\n",
       "      <td>0.130228</td>\n",
       "      <td>0.002827</td>\n",
       "      <td>1784.165850</td>\n",
       "      <td>129774.064525</td>\n",
       "      <td>2002.449060</td>\n",
       "      <td>85882.761315</td>\n",
       "      <td>...</td>\n",
       "      <td>52.420910</td>\n",
       "      <td>-1.690215</td>\n",
       "      <td>36.524071</td>\n",
       "      <td>-0.408979</td>\n",
       "      <td>41.597103</td>\n",
       "      <td>-2.303523</td>\n",
       "      <td>55.062923</td>\n",
       "      <td>1.221291</td>\n",
       "      <td>46.936035</td>\n",
       "      <td>blues</td>\n",
       "    </tr>\n",
       "    <tr>\n",
       "      <th>1</th>\n",
       "      <td>blues.00001.wav</td>\n",
       "      <td>661794</td>\n",
       "      <td>0.340914</td>\n",
       "      <td>0.094980</td>\n",
       "      <td>0.095948</td>\n",
       "      <td>0.002373</td>\n",
       "      <td>1530.176679</td>\n",
       "      <td>375850.073649</td>\n",
       "      <td>2039.036516</td>\n",
       "      <td>213843.755497</td>\n",
       "      <td>...</td>\n",
       "      <td>55.356403</td>\n",
       "      <td>-0.731125</td>\n",
       "      <td>60.314529</td>\n",
       "      <td>0.295073</td>\n",
       "      <td>48.120598</td>\n",
       "      <td>-0.283518</td>\n",
       "      <td>51.106190</td>\n",
       "      <td>0.531217</td>\n",
       "      <td>45.786282</td>\n",
       "      <td>blues</td>\n",
       "    </tr>\n",
       "    <tr>\n",
       "      <th>2</th>\n",
       "      <td>blues.00002.wav</td>\n",
       "      <td>661794</td>\n",
       "      <td>0.363637</td>\n",
       "      <td>0.085275</td>\n",
       "      <td>0.175570</td>\n",
       "      <td>0.002746</td>\n",
       "      <td>1552.811865</td>\n",
       "      <td>156467.643368</td>\n",
       "      <td>1747.702312</td>\n",
       "      <td>76254.192257</td>\n",
       "      <td>...</td>\n",
       "      <td>40.598766</td>\n",
       "      <td>-7.729093</td>\n",
       "      <td>47.639427</td>\n",
       "      <td>-1.816407</td>\n",
       "      <td>52.382141</td>\n",
       "      <td>-3.439720</td>\n",
       "      <td>46.639660</td>\n",
       "      <td>-2.231258</td>\n",
       "      <td>30.573025</td>\n",
       "      <td>blues</td>\n",
       "    </tr>\n",
       "    <tr>\n",
       "      <th>3</th>\n",
       "      <td>blues.00003.wav</td>\n",
       "      <td>661794</td>\n",
       "      <td>0.404785</td>\n",
       "      <td>0.093999</td>\n",
       "      <td>0.141093</td>\n",
       "      <td>0.006346</td>\n",
       "      <td>1070.106615</td>\n",
       "      <td>184355.942417</td>\n",
       "      <td>1596.412872</td>\n",
       "      <td>166441.494769</td>\n",
       "      <td>...</td>\n",
       "      <td>44.427753</td>\n",
       "      <td>-3.319597</td>\n",
       "      <td>50.206673</td>\n",
       "      <td>0.636965</td>\n",
       "      <td>37.319130</td>\n",
       "      <td>-0.619121</td>\n",
       "      <td>37.259739</td>\n",
       "      <td>-3.407448</td>\n",
       "      <td>31.949339</td>\n",
       "      <td>blues</td>\n",
       "    </tr>\n",
       "    <tr>\n",
       "      <th>4</th>\n",
       "      <td>blues.00004.wav</td>\n",
       "      <td>661794</td>\n",
       "      <td>0.308526</td>\n",
       "      <td>0.087841</td>\n",
       "      <td>0.091529</td>\n",
       "      <td>0.002303</td>\n",
       "      <td>1835.004266</td>\n",
       "      <td>343399.939274</td>\n",
       "      <td>1748.172116</td>\n",
       "      <td>88445.209036</td>\n",
       "      <td>...</td>\n",
       "      <td>86.099236</td>\n",
       "      <td>-5.454034</td>\n",
       "      <td>75.269707</td>\n",
       "      <td>-0.916874</td>\n",
       "      <td>53.613918</td>\n",
       "      <td>-4.404827</td>\n",
       "      <td>62.910812</td>\n",
       "      <td>-11.703234</td>\n",
       "      <td>55.195160</td>\n",
       "      <td>blues</td>\n",
       "    </tr>\n",
       "  </tbody>\n",
       "</table>\n",
       "<p>5 rows × 60 columns</p>\n",
       "</div>"
      ],
      "text/plain": [
       "          filename  length  chroma_stft_mean  chroma_stft_var  rms_mean  \\\n",
       "0  blues.00000.wav  661794          0.350088         0.088757  0.130228   \n",
       "1  blues.00001.wav  661794          0.340914         0.094980  0.095948   \n",
       "2  blues.00002.wav  661794          0.363637         0.085275  0.175570   \n",
       "3  blues.00003.wav  661794          0.404785         0.093999  0.141093   \n",
       "4  blues.00004.wav  661794          0.308526         0.087841  0.091529   \n",
       "\n",
       "    rms_var  spectral_centroid_mean  spectral_centroid_var  \\\n",
       "0  0.002827             1784.165850          129774.064525   \n",
       "1  0.002373             1530.176679          375850.073649   \n",
       "2  0.002746             1552.811865          156467.643368   \n",
       "3  0.006346             1070.106615          184355.942417   \n",
       "4  0.002303             1835.004266          343399.939274   \n",
       "\n",
       "   spectral_bandwidth_mean  spectral_bandwidth_var  ...  mfcc16_var  \\\n",
       "0              2002.449060            85882.761315  ...   52.420910   \n",
       "1              2039.036516           213843.755497  ...   55.356403   \n",
       "2              1747.702312            76254.192257  ...   40.598766   \n",
       "3              1596.412872           166441.494769  ...   44.427753   \n",
       "4              1748.172116            88445.209036  ...   86.099236   \n",
       "\n",
       "   mfcc17_mean  mfcc17_var  mfcc18_mean  mfcc18_var  mfcc19_mean  mfcc19_var  \\\n",
       "0    -1.690215   36.524071    -0.408979   41.597103    -2.303523   55.062923   \n",
       "1    -0.731125   60.314529     0.295073   48.120598    -0.283518   51.106190   \n",
       "2    -7.729093   47.639427    -1.816407   52.382141    -3.439720   46.639660   \n",
       "3    -3.319597   50.206673     0.636965   37.319130    -0.619121   37.259739   \n",
       "4    -5.454034   75.269707    -0.916874   53.613918    -4.404827   62.910812   \n",
       "\n",
       "   mfcc20_mean  mfcc20_var  label  \n",
       "0     1.221291   46.936035  blues  \n",
       "1     0.531217   45.786282  blues  \n",
       "2    -2.231258   30.573025  blues  \n",
       "3    -3.407448   31.949339  blues  \n",
       "4   -11.703234   55.195160  blues  \n",
       "\n",
       "[5 rows x 60 columns]"
      ]
     },
     "execution_count": 5,
     "metadata": {},
     "output_type": "execute_result"
    }
   ],
   "source": [
    "df = pd.read_csv('./features_30_sec.csv')\n",
    "df.head()"
   ]
  },
  {
   "cell_type": "code",
   "execution_count": 6,
   "metadata": {
    "id": "CHZQbQVzqGIA"
   },
   "outputs": [
    {
     "data": {
      "text/plain": [
       "blues        100\n",
       "classical    100\n",
       "country      100\n",
       "disco        100\n",
       "hiphop       100\n",
       "jazz         100\n",
       "metal        100\n",
       "pop          100\n",
       "reggae       100\n",
       "rock         100\n",
       "Name: label, dtype: int64"
      ]
     },
     "execution_count": 6,
     "metadata": {},
     "output_type": "execute_result"
    }
   ],
   "source": [
    "df['label'].value_counts()"
   ]
  },
  {
   "cell_type": "markdown",
   "metadata": {
    "id": "1zp_RDMgqL9Z"
   },
   "source": [
    "Split and scale dataset"
   ]
  },
  {
   "cell_type": "code",
   "execution_count": 7,
   "metadata": {
    "id": "2fNTd9t7qHCI"
   },
   "outputs": [],
   "source": [
    "columns_to_drop = ['label','filename', 'length']\n",
    "\n",
    "def prepare_dataset(df, columns_to_drop, test_size, random_state):\n",
    "\n",
    "    # Encode the labels from 0 to n_classes-1  \n",
    "    label_encoder = preprocessing.LabelEncoder()\n",
    "    df['label'] = label_encoder.fit_transform(df['label'])\n",
    "  \n",
    "    # devide data to train and test\n",
    "    df_train, df_test = train_test_split(df, test_size=test_size, random_state=random_state)\n",
    "    \n",
    "    # scale the training inputs\n",
    "    x_train = df_train.drop(columns_to_drop,axis=1)\n",
    "    y_train = df_train['label'].to_numpy()\n",
    "    \n",
    "    standard_scaler = preprocessing.StandardScaler()\n",
    "    x_train_scaled = standard_scaler.fit_transform(x_train)\n",
    "\n",
    "    #scale and prepare testing data\n",
    "    x_test = df_test.drop(columns_to_drop,axis=1)\n",
    "    x_test_scaled = standard_scaler.transform(x_test)\n",
    "    y_test = df_test['label'].to_numpy() \n",
    "  \n",
    "    return x_train_scaled, y_train, x_test_scaled, y_test"
   ]
  },
  {
   "cell_type": "code",
   "execution_count": 8,
   "metadata": {
    "id": "2fNTd9t7qHCI"
   },
   "outputs": [
    {
     "name": "stdout",
     "output_type": "stream",
     "text": [
      "(700, 57) (700,)\n",
      "(300, 57) (300,)\n"
     ]
    }
   ],
   "source": [
    "X_train, y_train, X_test, y_test = prepare_dataset(df, columns_to_drop, test_size=0.3, random_state=0)\n",
    "\n",
    "print(X_train.shape, y_train.shape)\n",
    "print(X_test.shape, y_test.shape)"
   ]
  },
  {
   "cell_type": "markdown",
   "metadata": {},
   "source": [
    "## Part A: 3-layer Neural Network"
   ]
  },
  {
   "cell_type": "code",
   "execution_count": 9,
   "metadata": {},
   "outputs": [],
   "source": [
    "def getModel(neuron_size, first_layer_activation, second_layer_activation, add_additional_layer):\n",
    "    # Inputs -> Dense -> Dropout -> Dense -> Dropout -> Dense (Output)\n",
    "    model = keras.Sequential()\n",
    "    model.add(layers.Dense(neuron_size, activation=first_layer_activation, input_dim=X_train.shape[1]))\n",
    "    model.add(layers.Dropout(0.3))\n",
    "    if(add_additional_layer):\n",
    "        model.add(layers.Dense(neuron_size, activation=first_layer_activation))\n",
    "        model.add(layers.Dropout(0.3))\n",
    "    model.add(layers.Dense(df['label'].nunique(), activation=second_layer_activation))\n",
    "    return model\n",
    "\n",
    "def getOptimizer():\n",
    "    # Adam Optimizer (Default Parameters) -> Stochastic Gradient Descent\n",
    "    optimizer = keras.optimizers.Adam()\n",
    "    return optimizer"
   ]
  },
  {
   "cell_type": "code",
   "execution_count": 10,
   "metadata": {},
   "outputs": [
    {
     "name": "stderr",
     "output_type": "stream",
     "text": [
      "2021-10-13 23:30:54.437008: I tensorflow/core/platform/cpu_feature_guard.cc:142] This TensorFlow binary is optimized with oneAPI Deep Neural Network Library (oneDNN) to use the following CPU instructions in performance-critical operations:  AVX2 FMA\n",
      "To enable them in other operations, rebuild TensorFlow with the appropriate compiler flags.\n"
     ]
    }
   ],
   "source": [
    "# Hyperparameters\n",
    "neuron_size = 32\n",
    "loss = \"sparse_categorical_crossentropy\"\n",
    "metrics = [\"accuracy\"]\n",
    "optimizer = getOptimizer()\n",
    "\n",
    "model = getModel(neuron_size, \"relu\", \"softmax\", add_additional_layer=True)\n",
    "model.compile(loss=loss, optimizer=optimizer, metrics=metrics)"
   ]
  },
  {
   "cell_type": "code",
   "execution_count": 11,
   "metadata": {},
   "outputs": [
    {
     "data": {
      "image/png": "[encoded data removed]",
      "text/plain": [
       "<IPython.core.display.Image object>"
      ]
     },
     "execution_count": 11,
     "metadata": {},
     "output_type": "execute_result"
    }
   ],
   "source": [
    "keras.utils.plot_model(model, show_shapes=True, rankdir=\"LR\")"
   ]
  },
  {
   "cell_type": "code",
   "execution_count": 12,
   "metadata": {},
   "outputs": [
    {
     "name": "stderr",
     "output_type": "stream",
     "text": [
      "2021-10-13 23:30:55.230052: I tensorflow/compiler/mlir/mlir_graph_optimization_pass.cc:185] None of the MLIR Optimization Passes are enabled (registered 2)\n"
     ]
    },
    {
     "name": "stdout",
     "output_type": "stream",
     "text": [
      "Epoch 1/50\n",
      "700/700 [==============================] - 1s 1ms/step - loss: 2.1039 - accuracy: 0.2443 - val_loss: 1.6637 - val_accuracy: 0.4833\n",
      "Epoch 2/50\n",
      "700/700 [==============================] - 1s 864us/step - loss: 1.7225 - accuracy: 0.3843 - val_loss: 1.4201 - val_accuracy: 0.5100\n",
      "Epoch 3/50\n",
      "700/700 [==============================] - 1s 776us/step - loss: 1.4900 - accuracy: 0.4671 - val_loss: 1.2270 - val_accuracy: 0.5867\n",
      "Epoch 4/50\n",
      "700/700 [==============================] - 1s 717us/step - loss: 1.2973 - accuracy: 0.5214 - val_loss: 1.1334 - val_accuracy: 0.6100\n",
      "Epoch 5/50\n",
      "700/700 [==============================] - 1s 722us/step - loss: 1.2659 - accuracy: 0.5514 - val_loss: 1.1446 - val_accuracy: 0.5733\n",
      "Epoch 6/50\n",
      "700/700 [==============================] - 1s 730us/step - loss: 1.1543 - accuracy: 0.5771 - val_loss: 1.0795 - val_accuracy: 0.6033\n",
      "Epoch 7/50\n",
      "700/700 [==============================] - 1s 795us/step - loss: 1.1096 - accuracy: 0.6271 - val_loss: 1.0299 - val_accuracy: 0.6333\n",
      "Epoch 8/50\n",
      "700/700 [==============================] - 1s 772us/step - loss: 1.0032 - accuracy: 0.6414 - val_loss: 1.0604 - val_accuracy: 0.6500\n",
      "Epoch 9/50\n",
      "700/700 [==============================] - 1s 808us/step - loss: 1.0173 - accuracy: 0.6214 - val_loss: 1.0682 - val_accuracy: 0.6000\n",
      "Epoch 10/50\n",
      "700/700 [==============================] - 1s 769us/step - loss: 1.0187 - accuracy: 0.6214 - val_loss: 1.0203 - val_accuracy: 0.6333\n",
      "Epoch 11/50\n",
      "700/700 [==============================] - 1s 719us/step - loss: 0.9467 - accuracy: 0.6600 - val_loss: 0.9999 - val_accuracy: 0.6600\n",
      "Epoch 12/50\n",
      "700/700 [==============================] - 1s 841us/step - loss: 0.9102 - accuracy: 0.6786 - val_loss: 1.0186 - val_accuracy: 0.6267\n",
      "Epoch 13/50\n",
      "700/700 [==============================] - 1s 731us/step - loss: 0.9012 - accuracy: 0.6714 - val_loss: 1.0042 - val_accuracy: 0.6567\n",
      "Epoch 14/50\n",
      "700/700 [==============================] - 1s 774us/step - loss: 0.8534 - accuracy: 0.6900 - val_loss: 0.9906 - val_accuracy: 0.6733\n",
      "Epoch 15/50\n",
      "700/700 [==============================] - 1s 754us/step - loss: 0.8790 - accuracy: 0.6857 - val_loss: 0.9997 - val_accuracy: 0.6667\n",
      "Epoch 16/50\n",
      "700/700 [==============================] - 1s 722us/step - loss: 0.8823 - accuracy: 0.6871 - val_loss: 1.0222 - val_accuracy: 0.6367\n",
      "Epoch 17/50\n",
      "700/700 [==============================] - 1s 740us/step - loss: 0.7996 - accuracy: 0.6914 - val_loss: 1.0804 - val_accuracy: 0.6400\n",
      "Epoch 18/50\n",
      "700/700 [==============================] - 1s 846us/step - loss: 0.8070 - accuracy: 0.7129 - val_loss: 0.9969 - val_accuracy: 0.6633\n",
      "Epoch 19/50\n",
      "700/700 [==============================] - 1s 876us/step - loss: 0.7540 - accuracy: 0.7243 - val_loss: 1.0944 - val_accuracy: 0.6433\n",
      "Epoch 20/50\n",
      "700/700 [==============================] - 1s 853us/step - loss: 0.7879 - accuracy: 0.7300 - val_loss: 1.0358 - val_accuracy: 0.6600\n",
      "Epoch 21/50\n",
      "700/700 [==============================] - 1s 742us/step - loss: 0.7241 - accuracy: 0.7486 - val_loss: 1.1069 - val_accuracy: 0.6567\n",
      "Epoch 22/50\n",
      "700/700 [==============================] - 1s 744us/step - loss: 0.7785 - accuracy: 0.7157 - val_loss: 1.0487 - val_accuracy: 0.6733\n",
      "Epoch 23/50\n",
      "700/700 [==============================] - 1s 760us/step - loss: 0.7438 - accuracy: 0.7343 - val_loss: 1.1072 - val_accuracy: 0.6567\n",
      "Epoch 24/50\n",
      "700/700 [==============================] - 1s 743us/step - loss: 0.7682 - accuracy: 0.7500 - val_loss: 1.0537 - val_accuracy: 0.6733\n",
      "Epoch 25/50\n",
      "700/700 [==============================] - 1s 801us/step - loss: 0.7136 - accuracy: 0.7557 - val_loss: 1.0409 - val_accuracy: 0.6733\n",
      "Epoch 26/50\n",
      "700/700 [==============================] - 1s 923us/step - loss: 0.6607 - accuracy: 0.7786 - val_loss: 1.0518 - val_accuracy: 0.6667\n",
      "Epoch 27/50\n",
      "700/700 [==============================] - 1s 992us/step - loss: 0.7128 - accuracy: 0.7357 - val_loss: 1.0704 - val_accuracy: 0.6600\n",
      "Epoch 28/50\n",
      "700/700 [==============================] - 1s 821us/step - loss: 0.6976 - accuracy: 0.7643 - val_loss: 1.1094 - val_accuracy: 0.6467\n",
      "Epoch 29/50\n",
      "700/700 [==============================] - 1s 767us/step - loss: 0.6710 - accuracy: 0.7714 - val_loss: 1.0167 - val_accuracy: 0.6800\n",
      "Epoch 30/50\n",
      "700/700 [==============================] - 1s 730us/step - loss: 0.6912 - accuracy: 0.7871 - val_loss: 1.0417 - val_accuracy: 0.6733\n",
      "Epoch 31/50\n",
      "700/700 [==============================] - 1s 743us/step - loss: 0.6404 - accuracy: 0.7814 - val_loss: 1.0877 - val_accuracy: 0.6700\n",
      "Epoch 32/50\n",
      "700/700 [==============================] - 1s 733us/step - loss: 0.6305 - accuracy: 0.7686 - val_loss: 1.0906 - val_accuracy: 0.6400\n",
      "Epoch 33/50\n",
      "700/700 [==============================] - 1s 719us/step - loss: 0.6971 - accuracy: 0.7757 - val_loss: 1.1367 - val_accuracy: 0.6633\n",
      "Epoch 34/50\n",
      "700/700 [==============================] - 1s 715us/step - loss: 0.5996 - accuracy: 0.7971 - val_loss: 1.1552 - val_accuracy: 0.6533\n",
      "Epoch 35/50\n",
      "700/700 [==============================] - 0s 710us/step - loss: 0.5624 - accuracy: 0.7957 - val_loss: 1.1822 - val_accuracy: 0.6367\n",
      "Epoch 36/50\n",
      "700/700 [==============================] - 1s 717us/step - loss: 0.6529 - accuracy: 0.7786 - val_loss: 1.1211 - val_accuracy: 0.6733\n",
      "Epoch 37/50\n",
      "700/700 [==============================] - 1s 717us/step - loss: 0.6315 - accuracy: 0.7757 - val_loss: 1.1982 - val_accuracy: 0.6400\n",
      "Epoch 38/50\n",
      "700/700 [==============================] - 0s 711us/step - loss: 0.5896 - accuracy: 0.7914 - val_loss: 1.1470 - val_accuracy: 0.6800\n",
      "Epoch 39/50\n",
      "700/700 [==============================] - 0s 712us/step - loss: 0.5969 - accuracy: 0.7886 - val_loss: 1.1137 - val_accuracy: 0.6567\n",
      "Epoch 40/50\n",
      "700/700 [==============================] - 1s 735us/step - loss: 0.5949 - accuracy: 0.8171 - val_loss: 1.1642 - val_accuracy: 0.6633\n",
      "Epoch 41/50\n",
      "700/700 [==============================] - 1s 751us/step - loss: 0.6238 - accuracy: 0.7929 - val_loss: 1.1993 - val_accuracy: 0.6967\n",
      "Epoch 42/50\n",
      "700/700 [==============================] - 1s 776us/step - loss: 0.5630 - accuracy: 0.8029 - val_loss: 1.1768 - val_accuracy: 0.6700\n",
      "Epoch 43/50\n",
      "700/700 [==============================] - 1s 725us/step - loss: 0.6206 - accuracy: 0.7957 - val_loss: 1.1428 - val_accuracy: 0.6700\n",
      "Epoch 44/50\n",
      "700/700 [==============================] - 1s 779us/step - loss: 0.5900 - accuracy: 0.7957 - val_loss: 1.0998 - val_accuracy: 0.6900\n",
      "Epoch 45/50\n",
      "700/700 [==============================] - 1s 775us/step - loss: 0.5445 - accuracy: 0.8100 - val_loss: 1.1182 - val_accuracy: 0.6900\n",
      "Epoch 46/50\n",
      "700/700 [==============================] - 1s 754us/step - loss: 0.5803 - accuracy: 0.8000 - val_loss: 1.1989 - val_accuracy: 0.6600\n",
      "Epoch 47/50\n",
      "700/700 [==============================] - 1s 973us/step - loss: 0.5281 - accuracy: 0.8029 - val_loss: 1.2611 - val_accuracy: 0.6700\n",
      "Epoch 48/50\n",
      "700/700 [==============================] - 1s 989us/step - loss: 0.5937 - accuracy: 0.7914 - val_loss: 1.2029 - val_accuracy: 0.6933\n",
      "Epoch 49/50\n",
      "700/700 [==============================] - 1s 941us/step - loss: 0.5428 - accuracy: 0.8014 - val_loss: 1.2362 - val_accuracy: 0.6833\n",
      "Epoch 50/50\n",
      "700/700 [==============================] - 1s 868us/step - loss: 0.6115 - accuracy: 0.8029 - val_loss: 1.2131 - val_accuracy: 0.6933\n"
     ]
    }
   ],
   "source": [
    "epochs = 50\n",
    "verbose = 1\n",
    "batch_size = 1\n",
    "\n",
    "history = model.fit(X_train, y_train, epochs=epochs, validation_data=(X_test, y_test), verbose=verbose, batch_size=batch_size)"
   ]
  },
  {
   "cell_type": "markdown",
   "metadata": {},
   "source": [
    "### Mean Cross-Validation Accuracies"
   ]
  },
  {
   "cell_type": "code",
   "execution_count": 13,
   "metadata": {},
   "outputs": [
    {
     "data": {
      "image/png": "[encoded data removed]",
      "text/plain": [
       "<Figure size 576x396 with 1 Axes>"
      ]
     },
     "metadata": {},
     "output_type": "display_data"
    }
   ],
   "source": [
    "plt.style.use(\"seaborn\")\n",
    "\n",
    "# Extracting Train & Test Accuracy from model history\n",
    "accuracy = history.history['accuracy']\n",
    "val_accuracy = history.history['val_accuracy']\n",
    "\n",
    "# Plotting\n",
    "plt.plot(accuracy)\n",
    "plt.plot(val_accuracy)\n",
    "\n",
    "# Labelling\n",
    "plt.title('Accuracy')\n",
    "plt.ylabel('Accuracy')\n",
    "plt.xlabel('Epoch')\n",
    "plt.legend(['train', 'test'], loc='lower right')\n",
    "plt.yticks(np.arange(0.2, 0.9, 0.1))\n",
    "\n",
    "plt.show()"
   ]
  },
  {
   "cell_type": "markdown",
   "metadata": {},
   "source": [
    "## Part B: Optimal 2-layer Neural Network vs. 3-layer Neural Network"
   ]
  },
  {
   "cell_type": "code",
   "execution_count": 14,
   "metadata": {},
   "outputs": [
    {
     "name": "stdout",
     "output_type": "stream",
     "text": [
      "Epoch 1/50\n",
      "175/175 [==============================] - 1s 1ms/step - loss: 2.1061 - accuracy: 0.2557 - val_loss: 1.7140 - val_accuracy: 0.3767\n",
      "Epoch 2/50\n",
      "175/175 [==============================] - 0s 830us/step - loss: 1.6175 - accuracy: 0.4257 - val_loss: 1.4891 - val_accuracy: 0.4500\n",
      "Epoch 3/50\n",
      "175/175 [==============================] - 0s 951us/step - loss: 1.4048 - accuracy: 0.4986 - val_loss: 1.3589 - val_accuracy: 0.5000\n",
      "Epoch 4/50\n",
      "175/175 [==============================] - 0s 895us/step - loss: 1.3075 - accuracy: 0.5243 - val_loss: 1.2786 - val_accuracy: 0.5167\n",
      "Epoch 5/50\n",
      "175/175 [==============================] - 0s 817us/step - loss: 1.2222 - accuracy: 0.5429 - val_loss: 1.2184 - val_accuracy: 0.5667\n",
      "Epoch 6/50\n",
      "175/175 [==============================] - 0s 774us/step - loss: 1.1022 - accuracy: 0.6157 - val_loss: 1.1747 - val_accuracy: 0.5867\n",
      "Epoch 7/50\n",
      "175/175 [==============================] - 0s 811us/step - loss: 1.0780 - accuracy: 0.6300 - val_loss: 1.1339 - val_accuracy: 0.5900\n",
      "Epoch 8/50\n",
      "175/175 [==============================] - 0s 774us/step - loss: 1.0568 - accuracy: 0.6514 - val_loss: 1.1111 - val_accuracy: 0.6167\n",
      "Epoch 9/50\n",
      "175/175 [==============================] - 0s 903us/step - loss: 0.9918 - accuracy: 0.6457 - val_loss: 1.0923 - val_accuracy: 0.6000\n",
      "Epoch 10/50\n",
      "175/175 [==============================] - 0s 866us/step - loss: 0.9365 - accuracy: 0.6814 - val_loss: 1.0582 - val_accuracy: 0.6367\n",
      "Epoch 11/50\n",
      "175/175 [==============================] - 0s 830us/step - loss: 0.8932 - accuracy: 0.7000 - val_loss: 1.0461 - val_accuracy: 0.6333\n",
      "Epoch 12/50\n",
      "175/175 [==============================] - 0s 825us/step - loss: 0.8803 - accuracy: 0.6886 - val_loss: 1.0286 - val_accuracy: 0.6333\n",
      "Epoch 13/50\n",
      "175/175 [==============================] - 0s 835us/step - loss: 0.8526 - accuracy: 0.7086 - val_loss: 1.0220 - val_accuracy: 0.6567\n",
      "Epoch 14/50\n",
      "175/175 [==============================] - 0s 892us/step - loss: 0.8573 - accuracy: 0.6929 - val_loss: 1.0107 - val_accuracy: 0.6467\n",
      "Epoch 15/50\n",
      "175/175 [==============================] - 0s 2ms/step - loss: 0.7772 - accuracy: 0.7486 - val_loss: 1.0040 - val_accuracy: 0.6533\n",
      "Epoch 16/50\n",
      "175/175 [==============================] - 0s 1ms/step - loss: 0.8000 - accuracy: 0.7086 - val_loss: 0.9847 - val_accuracy: 0.6433\n",
      "Epoch 17/50\n",
      "175/175 [==============================] - 0s 828us/step - loss: 0.7619 - accuracy: 0.7300 - val_loss: 0.9766 - val_accuracy: 0.6600\n",
      "Epoch 18/50\n",
      "175/175 [==============================] - 0s 936us/step - loss: 0.7261 - accuracy: 0.7414 - val_loss: 0.9730 - val_accuracy: 0.6633\n",
      "Epoch 19/50\n",
      "175/175 [==============================] - 0s 916us/step - loss: 0.7346 - accuracy: 0.7471 - val_loss: 0.9549 - val_accuracy: 0.6667\n",
      "Epoch 20/50\n",
      "175/175 [==============================] - 0s 924us/step - loss: 0.7177 - accuracy: 0.7557 - val_loss: 0.9433 - val_accuracy: 0.6567\n",
      "Epoch 21/50\n",
      "175/175 [==============================] - 0s 832us/step - loss: 0.7219 - accuracy: 0.7514 - val_loss: 0.9603 - val_accuracy: 0.6700\n",
      "Epoch 22/50\n",
      "175/175 [==============================] - 0s 800us/step - loss: 0.7003 - accuracy: 0.7557 - val_loss: 0.9461 - val_accuracy: 0.6767\n",
      "Epoch 23/50\n",
      "175/175 [==============================] - 0s 1ms/step - loss: 0.6614 - accuracy: 0.7800 - val_loss: 0.9568 - val_accuracy: 0.6833\n",
      "Epoch 24/50\n",
      "175/175 [==============================] - 0s 1ms/step - loss: 0.6655 - accuracy: 0.7757 - val_loss: 0.9434 - val_accuracy: 0.6767\n",
      "Epoch 25/50\n",
      "175/175 [==============================] - 0s 828us/step - loss: 0.6625 - accuracy: 0.7614 - val_loss: 0.9309 - val_accuracy: 0.6767\n",
      "Epoch 26/50\n",
      "175/175 [==============================] - 0s 903us/step - loss: 0.6386 - accuracy: 0.7900 - val_loss: 0.9277 - val_accuracy: 0.6833\n",
      "Epoch 27/50\n",
      "175/175 [==============================] - 0s 934us/step - loss: 0.6107 - accuracy: 0.7857 - val_loss: 0.9317 - val_accuracy: 0.7000\n",
      "Epoch 28/50\n",
      "175/175 [==============================] - 0s 946us/step - loss: 0.6405 - accuracy: 0.7557 - val_loss: 0.9363 - val_accuracy: 0.6967\n",
      "Epoch 29/50\n",
      "175/175 [==============================] - 0s 884us/step - loss: 0.6034 - accuracy: 0.7900 - val_loss: 0.9264 - val_accuracy: 0.6833\n",
      "Epoch 30/50\n",
      "175/175 [==============================] - 0s 848us/step - loss: 0.5956 - accuracy: 0.7800 - val_loss: 0.9257 - val_accuracy: 0.6967\n",
      "Epoch 31/50\n",
      "175/175 [==============================] - 0s 849us/step - loss: 0.5728 - accuracy: 0.8129 - val_loss: 0.9232 - val_accuracy: 0.6967\n",
      "Epoch 32/50\n",
      "175/175 [==============================] - 0s 960us/step - loss: 0.5936 - accuracy: 0.7771 - val_loss: 0.9166 - val_accuracy: 0.7000\n",
      "Epoch 33/50\n",
      "175/175 [==============================] - 0s 834us/step - loss: 0.5651 - accuracy: 0.7886 - val_loss: 0.9080 - val_accuracy: 0.7133\n",
      "Epoch 34/50\n",
      "175/175 [==============================] - 0s 2ms/step - loss: 0.5838 - accuracy: 0.7900 - val_loss: 0.9124 - val_accuracy: 0.7200\n",
      "Epoch 35/50\n",
      "175/175 [==============================] - 0s 2ms/step - loss: 0.5387 - accuracy: 0.8100 - val_loss: 0.9075 - val_accuracy: 0.7000\n",
      "Epoch 36/50\n",
      "175/175 [==============================] - 0s 956us/step - loss: 0.5558 - accuracy: 0.8057 - val_loss: 0.9074 - val_accuracy: 0.6967\n",
      "Epoch 37/50\n",
      "175/175 [==============================] - 0s 959us/step - loss: 0.5543 - accuracy: 0.8057 - val_loss: 0.9100 - val_accuracy: 0.7300\n",
      "Epoch 38/50\n",
      "175/175 [==============================] - 0s 851us/step - loss: 0.5487 - accuracy: 0.8114 - val_loss: 0.9147 - val_accuracy: 0.7167\n",
      "Epoch 39/50\n",
      "175/175 [==============================] - 0s 1ms/step - loss: 0.5151 - accuracy: 0.8229 - val_loss: 0.9177 - val_accuracy: 0.7200\n",
      "Epoch 40/50\n",
      "175/175 [==============================] - 0s 1ms/step - loss: 0.5250 - accuracy: 0.7971 - val_loss: 0.9175 - val_accuracy: 0.7133\n",
      "Epoch 41/50\n",
      "175/175 [==============================] - 0s 1ms/step - loss: 0.5442 - accuracy: 0.8143 - val_loss: 0.9386 - val_accuracy: 0.7200\n",
      "Epoch 42/50\n",
      "175/175 [==============================] - 0s 979us/step - loss: 0.5400 - accuracy: 0.8000 - val_loss: 0.9205 - val_accuracy: 0.7233\n",
      "Epoch 43/50\n",
      "175/175 [==============================] - 0s 969us/step - loss: 0.5051 - accuracy: 0.8357 - val_loss: 0.9237 - val_accuracy: 0.7200\n",
      "Epoch 44/50\n",
      "175/175 [==============================] - 0s 1ms/step - loss: 0.5079 - accuracy: 0.8086 - val_loss: 0.9186 - val_accuracy: 0.7267\n",
      "Epoch 45/50\n",
      "175/175 [==============================] - 0s 1ms/step - loss: 0.4780 - accuracy: 0.8329 - val_loss: 0.9328 - val_accuracy: 0.7300\n",
      "Epoch 46/50\n",
      "175/175 [==============================] - 0s 991us/step - loss: 0.4651 - accuracy: 0.8471 - val_loss: 0.9527 - val_accuracy: 0.7133\n",
      "Epoch 47/50\n",
      "175/175 [==============================] - 0s 975us/step - loss: 0.4869 - accuracy: 0.8429 - val_loss: 0.9386 - val_accuracy: 0.7100\n",
      "Epoch 48/50\n",
      "175/175 [==============================] - 0s 1ms/step - loss: 0.4979 - accuracy: 0.8257 - val_loss: 0.9448 - val_accuracy: 0.7200\n",
      "Epoch 49/50\n",
      "175/175 [==============================] - 0s 983us/step - loss: 0.4551 - accuracy: 0.8429 - val_loss: 0.9606 - val_accuracy: 0.7200\n",
      "Epoch 50/50\n",
      "175/175 [==============================] - 0s 972us/step - loss: 0.4558 - accuracy: 0.8371 - val_loss: 0.9814 - val_accuracy: 0.7133\n"
     ]
    }
   ],
   "source": [
    "epochs = 50\n",
    "verbose = 1\n",
    "\n",
    "# Parameters for Optimal 2-layer network\n",
    "batch_size = 4\n",
    "neuron_size = 32\n",
    "\n",
    "loss = \"sparse_categorical_crossentropy\"\n",
    "metrics = [\"accuracy\"]\n",
    "optimizer = getOptimizer()\n",
    "\n",
    "model_2_layer = getModel(neuron_size, \"relu\", \"softmax\", add_additional_layer=False)\n",
    "model_2_layer.compile(loss=loss, optimizer=optimizer, metrics=metrics)\n",
    "history_2_layer = model_2_layer.fit(X_train, y_train, epochs=epochs, validation_data=(X_test, y_test), verbose=verbose, batch_size=batch_size)"
   ]
  },
  {
   "cell_type": "code",
   "execution_count": 15,
   "metadata": {},
   "outputs": [
    {
     "data": {
      "image/png": "[encoded data removed]",
      "text/plain": [
       "<Figure size 1152x360 with 2 Axes>"
      ]
     },
     "metadata": {},
     "output_type": "display_data"
    }
   ],
   "source": [
    "plt.style.use(\"seaborn\")\n",
    "\n",
    "# Plot Configuration\n",
    "fig, (ax1, ax2) = plt.subplots(1, 2, figsize=(16, 5))\n",
    "fig.suptitle('Model with 3-layers vs. Optimal Model with 2-layers')\n",
    "\n",
    "# Plot for model with 3 layers\n",
    "# ------\n",
    "# Extracting Train & Test Accuracy from model history\n",
    "accuracy = history.history['accuracy']\n",
    "val_accuracy = history.history['val_accuracy']\n",
    "\n",
    "# Plotting\n",
    "ax1.plot(accuracy)\n",
    "ax1.plot(val_accuracy)\n",
    "\n",
    "# Labelling\n",
    "ax1.set_title('Model with 3-layers (Accuracy)')\n",
    "ax1.set_ylabel('Accuracy')\n",
    "ax1.set_xlabel('Epoch')\n",
    "ax1.legend(['train', 'test'], loc='lower right')\n",
    "ax1.set_yticks(np.arange(0.2, 0.9, 0.1))\n",
    "# ------\n",
    "\n",
    "# Plot for model with 2 layers (optimal)\n",
    "# ------\n",
    "# Extracting Train & Test Accuracy from model history\n",
    "accuracy = history_2_layer.history['accuracy']\n",
    "val_accuracy = history_2_layer.history['val_accuracy']\n",
    "\n",
    "# Plotting\n",
    "ax2.plot(accuracy)\n",
    "ax2.plot(val_accuracy)\n",
    "\n",
    "# Labelling\n",
    "ax2.set_title('Optimal Model with 2-layers (Accuracy)')\n",
    "ax2.set_ylabel('Accuracy')\n",
    "ax2.set_xlabel('Epoch')\n",
    "ax2.legend(['train', 'test'], loc='lower right')\n",
    "ax2.set_yticks(np.arange(0.2, 0.9, 0.1))\n",
    "# ------\n",
    "\n",
    "plt.show()"
   ]
  },
  {
   "cell_type": "markdown",
   "metadata": {},
   "source": [
    "From the two graphs plotted above, we observe that there is not much difference in accuracies between the model with 3-layers (left) and the optimal model with 2-layers (right). The test accuracies are close to `70%` and the train accuracies are close to `90%` for both the models at the end of 50 epochs. \n",
    "\n",
    "In such a case, we should prefer the optimal model with 2-layers (right) since it is simpler, and will be able to generalize better than the more complex 3-layer model."
   ]
  },
  {
   "cell_type": "markdown",
   "metadata": {},
   "source": [
    "## End of Part A, Question 4. "
   ]
  }
 ],
 "metadata": {
  "colab": {
   "authorship_tag": "ABX9TyPBI19y+/jqNpPI0QeiLTYf",
   "collapsed_sections": [],
   "name": "StarterCode.ipynb",
   "provenance": []
  },
  "interpreter": {
   "hash": "7e616aa229b6c21d6a2224f5b1a42eeeae7d750913ae40552b402d63a7031d52"
  },
  "kernelspec": {
   "display_name": "Python 3.9.4 64-bit ('myenv': conda)",
   "name": "python3"
  },
  "language_info": {
   "codemirror_mode": {
    "name": "ipython",
    "version": 3
   },
   "file_extension": ".py",
   "mimetype": "text/x-python",
   "name": "python",
   "nbconvert_exporter": "python",
   "pygments_lexer": "ipython3",
   "version": "3.9.4"
  }
 },
 "nbformat": 4,
 "nbformat_minor": 1
}
