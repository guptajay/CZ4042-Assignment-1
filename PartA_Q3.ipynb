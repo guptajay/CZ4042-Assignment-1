{
 "cells": [
  {
   "cell_type": "markdown",
   "metadata": {
    "id": "YM8unKH7nSIM"
   },
   "source": [
    "# CZ4042 Neural Networks & Deep Learning\n",
    "## Assignment - 1: Part A, Question 3\n",
    "\n",
    "> Gupta Jay  \n",
    "> U1822549K  \n",
    "> School of Computer Science and Engineering  \n",
    "> Nanyang Technological University, Singapore  "
   ]
  },
  {
   "cell_type": "markdown",
   "metadata": {},
   "source": [
    "## Imports"
   ]
  },
  {
   "cell_type": "code",
   "execution_count": 1,
   "metadata": {},
   "outputs": [],
   "source": [
    "# Setting the seed here is sufficient. \n",
    "# If you don't plan to use these starter code, make sure you add this cell.\n",
    "\n",
    "SEED = 42\n",
    "\n",
    "import os\n",
    "os.environ['TF_CUDNN_DETERMINISTIC'] = '1'\n",
    "\n",
    "import random \n",
    "random.seed(SEED)\n",
    "\n",
    "import numpy as np\n",
    "np.random.seed(SEED)\n",
    "\n",
    "import tensorflow as tf\n",
    "tf.random.set_seed(SEED)"
   ]
  },
  {
   "cell_type": "code",
   "execution_count": 2,
   "metadata": {},
   "outputs": [],
   "source": [
    "import pandas as pd\n",
    "import numpy as np\n",
    "import time\n",
    "\n",
    "# tensorflow libraries\n",
    "import tensorflow as tf\n",
    "import tensorflow.keras as keras\n",
    "from tensorflow.keras import layers\n",
    "from tensorflow.keras import Sequential\n",
    "\n",
    "# sklearn libraries are useful for preprocessing, performance measures, etc.\n",
    "from sklearn import preprocessing\n",
    "from sklearn.model_selection import KFold\n",
    "from sklearn.model_selection import train_test_split\n",
    "\n",
    "from matplotlib import pyplot as plt"
   ]
  },
  {
   "cell_type": "code",
   "execution_count": 3,
   "metadata": {},
   "outputs": [
    {
     "name": "stdout",
     "output_type": "stream",
     "text": [
      "2.6.0\n"
     ]
    }
   ],
   "source": [
    "print(tf.__version__)"
   ]
  },
  {
   "cell_type": "code",
   "execution_count": 4,
   "metadata": {},
   "outputs": [],
   "source": [
    "# Supress any warnings for clean presentation\n",
    "import warnings\n",
    "warnings.filterwarnings(\"ignore\")"
   ]
  },
  {
   "cell_type": "code",
   "execution_count": 5,
   "metadata": {
    "id": "An4b9d12p8u2"
   },
   "outputs": [
    {
     "data": {
      "text/html": [
       "<div>\n",
       "<style scoped>\n",
       "    .dataframe tbody tr th:only-of-type {\n",
       "        vertical-align: middle;\n",
       "    }\n",
       "\n",
       "    .dataframe tbody tr th {\n",
       "        vertical-align: top;\n",
       "    }\n",
       "\n",
       "    .dataframe thead th {\n",
       "        text-align: right;\n",
       "    }\n",
       "</style>\n",
       "<table border=\"1\" class=\"dataframe\">\n",
       "  <thead>\n",
       "    <tr style=\"text-align: right;\">\n",
       "      <th></th>\n",
       "      <th>filename</th>\n",
       "      <th>length</th>\n",
       "      <th>chroma_stft_mean</th>\n",
       "      <th>chroma_stft_var</th>\n",
       "      <th>rms_mean</th>\n",
       "      <th>rms_var</th>\n",
       "      <th>spectral_centroid_mean</th>\n",
       "      <th>spectral_centroid_var</th>\n",
       "      <th>spectral_bandwidth_mean</th>\n",
       "      <th>spectral_bandwidth_var</th>\n",
       "      <th>...</th>\n",
       "      <th>mfcc16_var</th>\n",
       "      <th>mfcc17_mean</th>\n",
       "      <th>mfcc17_var</th>\n",
       "      <th>mfcc18_mean</th>\n",
       "      <th>mfcc18_var</th>\n",
       "      <th>mfcc19_mean</th>\n",
       "      <th>mfcc19_var</th>\n",
       "      <th>mfcc20_mean</th>\n",
       "      <th>mfcc20_var</th>\n",
       "      <th>label</th>\n",
       "    </tr>\n",
       "  </thead>\n",
       "  <tbody>\n",
       "    <tr>\n",
       "      <th>0</th>\n",
       "      <td>blues.00000.wav</td>\n",
       "      <td>661794</td>\n",
       "      <td>0.350088</td>\n",
       "      <td>0.088757</td>\n",
       "      <td>0.130228</td>\n",
       "      <td>0.002827</td>\n",
       "      <td>1784.165850</td>\n",
       "      <td>129774.064525</td>\n",
       "      <td>2002.449060</td>\n",
       "      <td>85882.761315</td>\n",
       "      <td>...</td>\n",
       "      <td>52.420910</td>\n",
       "      <td>-1.690215</td>\n",
       "      <td>36.524071</td>\n",
       "      <td>-0.408979</td>\n",
       "      <td>41.597103</td>\n",
       "      <td>-2.303523</td>\n",
       "      <td>55.062923</td>\n",
       "      <td>1.221291</td>\n",
       "      <td>46.936035</td>\n",
       "      <td>blues</td>\n",
       "    </tr>\n",
       "    <tr>\n",
       "      <th>1</th>\n",
       "      <td>blues.00001.wav</td>\n",
       "      <td>661794</td>\n",
       "      <td>0.340914</td>\n",
       "      <td>0.094980</td>\n",
       "      <td>0.095948</td>\n",
       "      <td>0.002373</td>\n",
       "      <td>1530.176679</td>\n",
       "      <td>375850.073649</td>\n",
       "      <td>2039.036516</td>\n",
       "      <td>213843.755497</td>\n",
       "      <td>...</td>\n",
       "      <td>55.356403</td>\n",
       "      <td>-0.731125</td>\n",
       "      <td>60.314529</td>\n",
       "      <td>0.295073</td>\n",
       "      <td>48.120598</td>\n",
       "      <td>-0.283518</td>\n",
       "      <td>51.106190</td>\n",
       "      <td>0.531217</td>\n",
       "      <td>45.786282</td>\n",
       "      <td>blues</td>\n",
       "    </tr>\n",
       "    <tr>\n",
       "      <th>2</th>\n",
       "      <td>blues.00002.wav</td>\n",
       "      <td>661794</td>\n",
       "      <td>0.363637</td>\n",
       "      <td>0.085275</td>\n",
       "      <td>0.175570</td>\n",
       "      <td>0.002746</td>\n",
       "      <td>1552.811865</td>\n",
       "      <td>156467.643368</td>\n",
       "      <td>1747.702312</td>\n",
       "      <td>76254.192257</td>\n",
       "      <td>...</td>\n",
       "      <td>40.598766</td>\n",
       "      <td>-7.729093</td>\n",
       "      <td>47.639427</td>\n",
       "      <td>-1.816407</td>\n",
       "      <td>52.382141</td>\n",
       "      <td>-3.439720</td>\n",
       "      <td>46.639660</td>\n",
       "      <td>-2.231258</td>\n",
       "      <td>30.573025</td>\n",
       "      <td>blues</td>\n",
       "    </tr>\n",
       "    <tr>\n",
       "      <th>3</th>\n",
       "      <td>blues.00003.wav</td>\n",
       "      <td>661794</td>\n",
       "      <td>0.404785</td>\n",
       "      <td>0.093999</td>\n",
       "      <td>0.141093</td>\n",
       "      <td>0.006346</td>\n",
       "      <td>1070.106615</td>\n",
       "      <td>184355.942417</td>\n",
       "      <td>1596.412872</td>\n",
       "      <td>166441.494769</td>\n",
       "      <td>...</td>\n",
       "      <td>44.427753</td>\n",
       "      <td>-3.319597</td>\n",
       "      <td>50.206673</td>\n",
       "      <td>0.636965</td>\n",
       "      <td>37.319130</td>\n",
       "      <td>-0.619121</td>\n",
       "      <td>37.259739</td>\n",
       "      <td>-3.407448</td>\n",
       "      <td>31.949339</td>\n",
       "      <td>blues</td>\n",
       "    </tr>\n",
       "    <tr>\n",
       "      <th>4</th>\n",
       "      <td>blues.00004.wav</td>\n",
       "      <td>661794</td>\n",
       "      <td>0.308526</td>\n",
       "      <td>0.087841</td>\n",
       "      <td>0.091529</td>\n",
       "      <td>0.002303</td>\n",
       "      <td>1835.004266</td>\n",
       "      <td>343399.939274</td>\n",
       "      <td>1748.172116</td>\n",
       "      <td>88445.209036</td>\n",
       "      <td>...</td>\n",
       "      <td>86.099236</td>\n",
       "      <td>-5.454034</td>\n",
       "      <td>75.269707</td>\n",
       "      <td>-0.916874</td>\n",
       "      <td>53.613918</td>\n",
       "      <td>-4.404827</td>\n",
       "      <td>62.910812</td>\n",
       "      <td>-11.703234</td>\n",
       "      <td>55.195160</td>\n",
       "      <td>blues</td>\n",
       "    </tr>\n",
       "  </tbody>\n",
       "</table>\n",
       "<p>5 rows × 60 columns</p>\n",
       "</div>"
      ],
      "text/plain": [
       "          filename  length  chroma_stft_mean  chroma_stft_var  rms_mean  \\\n",
       "0  blues.00000.wav  661794          0.350088         0.088757  0.130228   \n",
       "1  blues.00001.wav  661794          0.340914         0.094980  0.095948   \n",
       "2  blues.00002.wav  661794          0.363637         0.085275  0.175570   \n",
       "3  blues.00003.wav  661794          0.404785         0.093999  0.141093   \n",
       "4  blues.00004.wav  661794          0.308526         0.087841  0.091529   \n",
       "\n",
       "    rms_var  spectral_centroid_mean  spectral_centroid_var  \\\n",
       "0  0.002827             1784.165850          129774.064525   \n",
       "1  0.002373             1530.176679          375850.073649   \n",
       "2  0.002746             1552.811865          156467.643368   \n",
       "3  0.006346             1070.106615          184355.942417   \n",
       "4  0.002303             1835.004266          343399.939274   \n",
       "\n",
       "   spectral_bandwidth_mean  spectral_bandwidth_var  ...  mfcc16_var  \\\n",
       "0              2002.449060            85882.761315  ...   52.420910   \n",
       "1              2039.036516           213843.755497  ...   55.356403   \n",
       "2              1747.702312            76254.192257  ...   40.598766   \n",
       "3              1596.412872           166441.494769  ...   44.427753   \n",
       "4              1748.172116            88445.209036  ...   86.099236   \n",
       "\n",
       "   mfcc17_mean  mfcc17_var  mfcc18_mean  mfcc18_var  mfcc19_mean  mfcc19_var  \\\n",
       "0    -1.690215   36.524071    -0.408979   41.597103    -2.303523   55.062923   \n",
       "1    -0.731125   60.314529     0.295073   48.120598    -0.283518   51.106190   \n",
       "2    -7.729093   47.639427    -1.816407   52.382141    -3.439720   46.639660   \n",
       "3    -3.319597   50.206673     0.636965   37.319130    -0.619121   37.259739   \n",
       "4    -5.454034   75.269707    -0.916874   53.613918    -4.404827   62.910812   \n",
       "\n",
       "   mfcc20_mean  mfcc20_var  label  \n",
       "0     1.221291   46.936035  blues  \n",
       "1     0.531217   45.786282  blues  \n",
       "2    -2.231258   30.573025  blues  \n",
       "3    -3.407448   31.949339  blues  \n",
       "4   -11.703234   55.195160  blues  \n",
       "\n",
       "[5 rows x 60 columns]"
      ]
     },
     "execution_count": 5,
     "metadata": {},
     "output_type": "execute_result"
    }
   ],
   "source": [
    "df = pd.read_csv('./features_30_sec.csv')\n",
    "df.head()"
   ]
  },
  {
   "cell_type": "code",
   "execution_count": 6,
   "metadata": {
    "id": "CHZQbQVzqGIA"
   },
   "outputs": [
    {
     "data": {
      "text/plain": [
       "blues        100\n",
       "classical    100\n",
       "country      100\n",
       "disco        100\n",
       "hiphop       100\n",
       "jazz         100\n",
       "metal        100\n",
       "pop          100\n",
       "reggae       100\n",
       "rock         100\n",
       "Name: label, dtype: int64"
      ]
     },
     "execution_count": 6,
     "metadata": {},
     "output_type": "execute_result"
    }
   ],
   "source": [
    "df['label'].value_counts()"
   ]
  },
  {
   "cell_type": "markdown",
   "metadata": {
    "id": "1zp_RDMgqL9Z"
   },
   "source": [
    "Split and scale dataset"
   ]
  },
  {
   "cell_type": "code",
   "execution_count": 7,
   "metadata": {
    "id": "2fNTd9t7qHCI"
   },
   "outputs": [],
   "source": [
    "columns_to_drop = ['label','filename', 'length']\n",
    "\n",
    "def prepare_dataset(df, columns_to_drop, test_size, random_state):\n",
    "\n",
    "    # Encode the labels from 0 to n_classes-1  \n",
    "    label_encoder = preprocessing.LabelEncoder()\n",
    "    df['label'] = label_encoder.fit_transform(df['label'])\n",
    "  \n",
    "    # devide data to train and test\n",
    "    df_train, df_test = train_test_split(df, test_size=test_size, random_state=random_state)\n",
    "    \n",
    "    # scale the training inputs\n",
    "    x_train = df_train.drop(columns_to_drop,axis=1)\n",
    "    y_train = df_train['label'].to_numpy()\n",
    "    \n",
    "    standard_scaler = preprocessing.StandardScaler()\n",
    "    x_train_scaled = standard_scaler.fit_transform(x_train)\n",
    "\n",
    "    #scale and prepare testing data\n",
    "    x_test = df_test.drop(columns_to_drop,axis=1)\n",
    "    x_test_scaled = standard_scaler.transform(x_test)\n",
    "    y_test = df_test['label'].to_numpy() \n",
    "  \n",
    "    return x_train_scaled, y_train, x_test_scaled, y_test"
   ]
  },
  {
   "cell_type": "code",
   "execution_count": 8,
   "metadata": {
    "id": "2fNTd9t7qHCI"
   },
   "outputs": [
    {
     "name": "stdout",
     "output_type": "stream",
     "text": [
      "(700, 57) (700,)\n",
      "(300, 57) (300,)\n"
     ]
    }
   ],
   "source": [
    "X_train, y_train, X_test, y_test = prepare_dataset(df, columns_to_drop, test_size=0.3, random_state=0)\n",
    "\n",
    "print(X_train.shape, y_train.shape)\n",
    "print(X_test.shape, y_test.shape)"
   ]
  },
  {
   "cell_type": "code",
   "execution_count": 9,
   "metadata": {},
   "outputs": [],
   "source": [
    "def getModel(neuron_size, first_layer_activation, second_layer_activation):\n",
    "    # Inputs -> Dense -> Dropout -> Dense (Output)\n",
    "    model = keras.Sequential()\n",
    "    model.add(layers.Dense(neuron_size, activation=first_layer_activation, input_dim=X_train.shape[1]))\n",
    "    model.add(layers.Dropout(0.3))\n",
    "    model.add(layers.Dense(df['label'].nunique(), activation=second_layer_activation))\n",
    "    return model\n",
    "\n",
    "def getOptimizer():\n",
    "    # Adam Optimizer (Default Parameters) -> Stochastic Gradient Descent\n",
    "    optimizer = keras.optimizers.Adam()\n",
    "    return optimizer"
   ]
  },
  {
   "cell_type": "markdown",
   "metadata": {},
   "source": [
    "## Part A: Search for the Optimal Number of Hidden Neurons\n",
    "\n",
    "> Reference for K-Fold Cross Validation: https://www.machinecurve.com/index.php/2020/02/18/how-to-use-k-fold-cross-validation-with-keras/"
   ]
  },
  {
   "cell_type": "code",
   "execution_count": 10,
   "metadata": {},
   "outputs": [],
   "source": [
    "# Search Space\n",
    "neuron_sizes = [8, 16, 32, 64]\n",
    "\n",
    "# Hyperparameters\n",
    "epochs = 50\n",
    "n_splits = 3\n",
    "verbose = 0\n",
    "batch_size = 4\n",
    "loss = \"sparse_categorical_crossentropy\"\n",
    "metrics = [\"accuracy\"]\n",
    "optimizer = getOptimizer()\n",
    "\n",
    "histories = {} "
   ]
  },
  {
   "cell_type": "code",
   "execution_count": 11,
   "metadata": {},
   "outputs": [],
   "source": [
    "# 3-fold cross-validation on training partition\n",
    "kfold = KFold(n_splits=n_splits, shuffle=True, random_state=0)"
   ]
  },
  {
   "cell_type": "code",
   "execution_count": 12,
   "metadata": {},
   "outputs": [
    {
     "name": "stdout",
     "output_type": "stream",
     "text": [
      "\n",
      "Number of Neurons: 8\n",
      "---------------\n"
     ]
    },
    {
     "name": "stderr",
     "output_type": "stream",
     "text": [
      "2021-10-13 23:07:47.547740: I tensorflow/core/platform/cpu_feature_guard.cc:142] This TensorFlow binary is optimized with oneAPI Deep Neural Network Library (oneDNN) to use the following CPU instructions in performance-critical operations:  AVX2 FMA\n",
      "To enable them in other operations, rebuild TensorFlow with the appropriate compiler flags.\n",
      "2021-10-13 23:07:47.652905: I tensorflow/compiler/mlir/mlir_graph_optimization_pass.cc:185] None of the MLIR Optimization Passes are enabled (registered 2)\n"
     ]
    },
    {
     "name": "stdout",
     "output_type": "stream",
     "text": [
      "Training Complete: Fold 1\n",
      "Training Complete: Fold 2\n",
      "Training Complete: Fold 3\n",
      "\n",
      "Number of Neurons: 16\n",
      "---------------\n",
      "Training Complete: Fold 1\n",
      "Training Complete: Fold 2\n",
      "Training Complete: Fold 3\n",
      "\n",
      "Number of Neurons: 32\n",
      "---------------\n",
      "Training Complete: Fold 1\n",
      "Training Complete: Fold 2\n",
      "Training Complete: Fold 3\n",
      "\n",
      "Number of Neurons: 64\n",
      "---------------\n",
      "Training Complete: Fold 1\n",
      "Training Complete: Fold 2\n",
      "Training Complete: Fold 3\n"
     ]
    }
   ],
   "source": [
    "# Experiment on neuron sizes\n",
    "# Iterating through all neuron sizes\n",
    "for neuron_size in neuron_sizes:\n",
    "    neuron_specific_history = {}\n",
    "    fold_counter = 1\n",
    "\n",
    "    print(\"\\nNumber of Neurons: %0.0f\" % neuron_size)\n",
    "    print(\"---------------\")\n",
    "\n",
    "    # Iterating through each split of training data\n",
    "    for train, test in kfold.split(X_train, y_train):\n",
    "        # Initialize model and fitting\n",
    "        model = getModel(neuron_size, \"relu\", \"softmax\")\n",
    "        model.compile(loss=loss, optimizer=optimizer, metrics=metrics)\n",
    "        history = model.fit(X_train[train], y_train[train], batch_size=batch_size, epochs=epochs, verbose=verbose, validation_data=(X_train[test], y_train[test]))\n",
    "        \n",
    "        print(\"Training Complete: Fold %0.0f\" % fold_counter)\n",
    "        \n",
    "        # Storing history of every k-fold\n",
    "        neuron_specific_history[fold_counter] = history\n",
    "        fold_counter += 1\n",
    "\n",
    "    # Storing history for every neuron size\n",
    "    histories[neuron_size] = neuron_specific_history"
   ]
  },
  {
   "cell_type": "markdown",
   "metadata": {},
   "source": [
    "### Mean Cross-Validation Accuracies"
   ]
  },
  {
   "cell_type": "code",
   "execution_count": 13,
   "metadata": {},
   "outputs": [],
   "source": [
    "accuracy_per_neuron_size = []\n",
    "\n",
    "# Iterating through all the neuron sizes\n",
    "for neuron_size in neuron_sizes:\n",
    "    accuracy_per_epoch = []\n",
    "    \n",
    "    # Extract k-fold history for a neuron size\n",
    "    neuron_size_histories = histories[neuron_size]\n",
    "\n",
    "    # Calculate mean across 3-fold accuracies for each epoch\n",
    "    for i in range(epochs):\n",
    "        accuracies = [neuron_size_histories[1].history['val_accuracy'][i], neuron_size_histories[2].history['val_accuracy'][i], neuron_size_histories[3].history['val_accuracy'][i]]\n",
    "        accuracy_per_epoch.append(np.mean(accuracies))\n",
    "\n",
    "    # Store mean for each epoch, per neuron size  \n",
    "    accuracy_per_neuron_size.append(accuracy_per_epoch)"
   ]
  },
  {
   "cell_type": "code",
   "execution_count": 14,
   "metadata": {},
   "outputs": [
    {
     "data": {
      "text/plain": [
       "<matplotlib.legend.Legend at 0x7fc413410a00>"
      ]
     },
     "execution_count": 14,
     "metadata": {},
     "output_type": "execute_result"
    },
    {
     "data": {
      "image/png": "[encoded data removed]",
      "text/plain": [
       "<Figure size 576x396 with 1 Axes>"
      ]
     },
     "metadata": {},
     "output_type": "display_data"
    }
   ],
   "source": [
    "plt.style.use(\"seaborn\")\n",
    "\n",
    "# Plotting\n",
    "for i in range(len(neuron_sizes)):\n",
    "    plt.plot(accuracy_per_neuron_size[i])\n",
    "\n",
    "# Labelling\n",
    "plt.title('Accuracy')\n",
    "plt.ylabel('Accuracy')\n",
    "plt.xlabel('Epoch')\n",
    "plt.xticks(np.arange(0, 50+1, 5.0))\n",
    "\n",
    "# Legend for easy reading\n",
    "plt.legend(['Num. Neurons: 8', 'Num. Neurons: 16', 'Num. Neurons: 32', 'Num. Neurons: 64'], loc='lower right')"
   ]
  },
  {
   "cell_type": "markdown",
   "metadata": {},
   "source": [
    "## Part B: Select Optimal Number of Hidden Layer Neurons\n",
    "\n",
    "**Optimal Number of Hidden Neurons**: `32`\n",
    "\n",
    "Based on the graph plotted above, we observe that the accuracy converges approximately after `15` epochs for all number of neurons. Although the accuracues for model with `32` and `64` hidden neurons are close, we will consider the model with `32` neurons as it will be less complex and able to generalize better on real world data."
   ]
  },
  {
   "cell_type": "markdown",
   "metadata": {},
   "source": [
    "## Part C: Plot Train & Test Accuracies "
   ]
  },
  {
   "cell_type": "code",
   "execution_count": 17,
   "metadata": {},
   "outputs": [
    {
     "name": "stdout",
     "output_type": "stream",
     "text": [
      "Epoch 1/50\n",
      "175/175 [==============================] - 1s 2ms/step - loss: 2.3946 - accuracy: 0.1771 - val_loss: 1.8949 - val_accuracy: 0.3600\n",
      "Epoch 2/50\n",
      "175/175 [==============================] - 0s 849us/step - loss: 1.7538 - accuracy: 0.3729 - val_loss: 1.6143 - val_accuracy: 0.4633\n",
      "Epoch 3/50\n",
      "175/175 [==============================] - 0s 764us/step - loss: 1.5293 - accuracy: 0.4143 - val_loss: 1.4681 - val_accuracy: 0.5100\n",
      "Epoch 4/50\n",
      "175/175 [==============================] - 0s 765us/step - loss: 1.3900 - accuracy: 0.5114 - val_loss: 1.3583 - val_accuracy: 0.5567\n",
      "Epoch 5/50\n",
      "175/175 [==============================] - 0s 771us/step - loss: 1.2450 - accuracy: 0.5600 - val_loss: 1.2877 - val_accuracy: 0.5633\n",
      "Epoch 6/50\n",
      "175/175 [==============================] - 0s 766us/step - loss: 1.2054 - accuracy: 0.5586 - val_loss: 1.2347 - val_accuracy: 0.5900\n",
      "Epoch 7/50\n",
      "175/175 [==============================] - 0s 765us/step - loss: 1.1306 - accuracy: 0.5986 - val_loss: 1.1946 - val_accuracy: 0.6000\n",
      "Epoch 8/50\n",
      "175/175 [==============================] - 0s 770us/step - loss: 1.0676 - accuracy: 0.6186 - val_loss: 1.1713 - val_accuracy: 0.6267\n",
      "Epoch 9/50\n",
      "175/175 [==============================] - 0s 779us/step - loss: 1.0274 - accuracy: 0.6571 - val_loss: 1.1534 - val_accuracy: 0.6300\n",
      "Epoch 10/50\n",
      "175/175 [==============================] - 0s 780us/step - loss: 1.0074 - accuracy: 0.6471 - val_loss: 1.1164 - val_accuracy: 0.6300\n",
      "Epoch 11/50\n",
      "175/175 [==============================] - 0s 767us/step - loss: 0.9464 - accuracy: 0.6829 - val_loss: 1.0994 - val_accuracy: 0.6400\n",
      "Epoch 12/50\n",
      "175/175 [==============================] - 0s 776us/step - loss: 0.9209 - accuracy: 0.6600 - val_loss: 1.1111 - val_accuracy: 0.6267\n",
      "Epoch 13/50\n",
      "175/175 [==============================] - 0s 765us/step - loss: 0.9252 - accuracy: 0.6686 - val_loss: 1.0740 - val_accuracy: 0.6467\n",
      "Epoch 14/50\n",
      "175/175 [==============================] - 0s 768us/step - loss: 0.8943 - accuracy: 0.6900 - val_loss: 1.0669 - val_accuracy: 0.6433\n",
      "Epoch 15/50\n",
      "175/175 [==============================] - 0s 772us/step - loss: 0.8464 - accuracy: 0.7200 - val_loss: 1.0519 - val_accuracy: 0.6533\n",
      "Epoch 16/50\n",
      "175/175 [==============================] - 0s 833us/step - loss: 0.7846 - accuracy: 0.7329 - val_loss: 1.0331 - val_accuracy: 0.6467\n",
      "Epoch 17/50\n",
      "175/175 [==============================] - 0s 769us/step - loss: 0.7963 - accuracy: 0.7186 - val_loss: 1.0335 - val_accuracy: 0.6467\n",
      "Epoch 18/50\n",
      "175/175 [==============================] - 0s 771us/step - loss: 0.7784 - accuracy: 0.7300 - val_loss: 1.0225 - val_accuracy: 0.6367\n",
      "Epoch 19/50\n",
      "175/175 [==============================] - 0s 775us/step - loss: 0.7602 - accuracy: 0.7300 - val_loss: 1.0279 - val_accuracy: 0.6267\n",
      "Epoch 20/50\n",
      "175/175 [==============================] - 0s 856us/step - loss: 0.7752 - accuracy: 0.7186 - val_loss: 1.0125 - val_accuracy: 0.6467\n",
      "Epoch 21/50\n",
      "175/175 [==============================] - 0s 803us/step - loss: 0.7267 - accuracy: 0.7571 - val_loss: 1.0033 - val_accuracy: 0.6400\n",
      "Epoch 22/50\n",
      "175/175 [==============================] - 0s 780us/step - loss: 0.7168 - accuracy: 0.7357 - val_loss: 1.0033 - val_accuracy: 0.6433\n",
      "Epoch 23/50\n",
      "175/175 [==============================] - 0s 768us/step - loss: 0.7091 - accuracy: 0.7614 - val_loss: 1.0084 - val_accuracy: 0.6433\n",
      "Epoch 24/50\n",
      "175/175 [==============================] - 0s 814us/step - loss: 0.6744 - accuracy: 0.7686 - val_loss: 1.0061 - val_accuracy: 0.6500\n",
      "Epoch 25/50\n",
      "175/175 [==============================] - 0s 1ms/step - loss: 0.6790 - accuracy: 0.7629 - val_loss: 1.0049 - val_accuracy: 0.6333\n",
      "Epoch 26/50\n",
      "175/175 [==============================] - 0s 1ms/step - loss: 0.6502 - accuracy: 0.7729 - val_loss: 1.0116 - val_accuracy: 0.6500\n",
      "Epoch 27/50\n",
      "175/175 [==============================] - 0s 1ms/step - loss: 0.6686 - accuracy: 0.7500 - val_loss: 1.0080 - val_accuracy: 0.6500\n",
      "Epoch 28/50\n",
      "175/175 [==============================] - 0s 918us/step - loss: 0.6350 - accuracy: 0.7686 - val_loss: 0.9959 - val_accuracy: 0.6633\n",
      "Epoch 29/50\n",
      "175/175 [==============================] - 0s 894us/step - loss: 0.5951 - accuracy: 0.8014 - val_loss: 1.0015 - val_accuracy: 0.6500\n",
      "Epoch 30/50\n",
      "175/175 [==============================] - 0s 952us/step - loss: 0.6234 - accuracy: 0.7886 - val_loss: 1.0094 - val_accuracy: 0.6533\n",
      "Epoch 31/50\n",
      "175/175 [==============================] - 0s 946us/step - loss: 0.5952 - accuracy: 0.7900 - val_loss: 0.9959 - val_accuracy: 0.6700\n",
      "Epoch 32/50\n",
      "175/175 [==============================] - 0s 911us/step - loss: 0.5928 - accuracy: 0.7757 - val_loss: 1.0024 - val_accuracy: 0.6600\n",
      "Epoch 33/50\n",
      "175/175 [==============================] - 0s 905us/step - loss: 0.5660 - accuracy: 0.7843 - val_loss: 1.0104 - val_accuracy: 0.6733\n",
      "Epoch 34/50\n",
      "175/175 [==============================] - 0s 956us/step - loss: 0.5861 - accuracy: 0.8057 - val_loss: 1.0045 - val_accuracy: 0.6700\n",
      "Epoch 35/50\n",
      "175/175 [==============================] - 0s 876us/step - loss: 0.5567 - accuracy: 0.8257 - val_loss: 1.0177 - val_accuracy: 0.6733\n",
      "Epoch 36/50\n",
      "175/175 [==============================] - 0s 883us/step - loss: 0.5630 - accuracy: 0.8014 - val_loss: 1.0122 - val_accuracy: 0.6767\n",
      "Epoch 37/50\n",
      "175/175 [==============================] - 0s 935us/step - loss: 0.5645 - accuracy: 0.7943 - val_loss: 1.0216 - val_accuracy: 0.6600\n",
      "Epoch 38/50\n",
      "175/175 [==============================] - 0s 882us/step - loss: 0.5327 - accuracy: 0.8257 - val_loss: 1.0260 - val_accuracy: 0.6633\n",
      "Epoch 39/50\n",
      "175/175 [==============================] - 0s 1ms/step - loss: 0.5253 - accuracy: 0.8157 - val_loss: 1.0388 - val_accuracy: 0.6667\n",
      "Epoch 40/50\n",
      "175/175 [==============================] - 0s 872us/step - loss: 0.5087 - accuracy: 0.8186 - val_loss: 1.0277 - val_accuracy: 0.6767\n",
      "Epoch 41/50\n",
      "175/175 [==============================] - 0s 867us/step - loss: 0.5460 - accuracy: 0.8086 - val_loss: 1.0395 - val_accuracy: 0.6567\n",
      "Epoch 42/50\n",
      "175/175 [==============================] - 0s 954us/step - loss: 0.5221 - accuracy: 0.8229 - val_loss: 1.0512 - val_accuracy: 0.6667\n",
      "Epoch 43/50\n",
      "175/175 [==============================] - 0s 847us/step - loss: 0.5001 - accuracy: 0.8271 - val_loss: 1.0623 - val_accuracy: 0.6733\n",
      "Epoch 44/50\n",
      "175/175 [==============================] - 0s 760us/step - loss: 0.4849 - accuracy: 0.8429 - val_loss: 1.0638 - val_accuracy: 0.6700\n",
      "Epoch 45/50\n",
      "175/175 [==============================] - 0s 817us/step - loss: 0.5130 - accuracy: 0.8157 - val_loss: 1.0548 - val_accuracy: 0.6733\n",
      "Epoch 46/50\n",
      "175/175 [==============================] - 0s 767us/step - loss: 0.4959 - accuracy: 0.8214 - val_loss: 1.0781 - val_accuracy: 0.6733\n",
      "Epoch 47/50\n",
      "175/175 [==============================] - 0s 772us/step - loss: 0.4959 - accuracy: 0.8186 - val_loss: 1.0807 - val_accuracy: 0.6667\n",
      "Epoch 48/50\n",
      "175/175 [==============================] - 0s 763us/step - loss: 0.4624 - accuracy: 0.8457 - val_loss: 1.0661 - val_accuracy: 0.6800\n",
      "Epoch 49/50\n",
      "175/175 [==============================] - 0s 771us/step - loss: 0.5071 - accuracy: 0.8143 - val_loss: 1.0714 - val_accuracy: 0.6933\n",
      "Epoch 50/50\n",
      "175/175 [==============================] - 0s 787us/step - loss: 0.4664 - accuracy: 0.8314 - val_loss: 1.0736 - val_accuracy: 0.6833\n"
     ]
    }
   ],
   "source": [
    "epochs = 50\n",
    "verbose = 1\n",
    "\n",
    "# Parameters for Optimal 2-layer network\n",
    "batch_size = 4\n",
    "neuron_size = 32\n",
    "\n",
    "loss = \"sparse_categorical_crossentropy\"\n",
    "metrics = [\"accuracy\"]\n",
    "optimizer = getOptimizer()\n",
    "\n",
    "model = getModel(neuron_size, \"relu\", \"softmax\")\n",
    "model.compile(loss=loss, optimizer=optimizer, metrics=metrics)\n",
    "history = model.fit(X_train, y_train, epochs=epochs, validation_data=(X_test, y_test), verbose=verbose, batch_size=batch_size)"
   ]
  },
  {
   "cell_type": "code",
   "execution_count": 18,
   "metadata": {},
   "outputs": [
    {
     "data": {
      "text/plain": [
       "<matplotlib.legend.Legend at 0x7fc3fa7d0310>"
      ]
     },
     "execution_count": 18,
     "metadata": {},
     "output_type": "execute_result"
    },
    {
     "data": {
      "image/png": "[encoded data removed]",
      "text/plain": [
       "<Figure size 576x396 with 1 Axes>"
      ]
     },
     "metadata": {},
     "output_type": "display_data"
    }
   ],
   "source": [
    "plt.style.use(\"seaborn\")\n",
    "\n",
    "# Extracting Train & Test Accuracy from model history\n",
    "accuracy = history.history['accuracy']\n",
    "val_accuracy = history.history['val_accuracy']\n",
    "\n",
    "# Plotting\n",
    "plt.plot(accuracy)\n",
    "plt.plot(val_accuracy)\n",
    "\n",
    "# Labelling\n",
    "plt.title('Accuracy')\n",
    "plt.ylabel('Accuracy')\n",
    "plt.xlabel('Epoch')\n",
    "plt.xticks(np.arange(0, 50+1, 5.0))\n",
    "\n",
    "# Legend for easy reading\n",
    "plt.legend(['Train', 'Test'], loc='lower right')"
   ]
  },
  {
   "cell_type": "markdown",
   "metadata": {},
   "source": [
    "## Part D: Other Parameters for Tuning\n",
    "\n",
    "There are several parameters that can be tuned. From the Train vs Test accuracies grapgh plotted above, we observe that after approximately `15` epochs, the test accuracy converges to `~70%`, whereas the train accuracy keeps increasing. This shows that there are still signs of overfitting in our model. \n",
    "\n",
    "We can tune the following parameters:\n",
    "* **Number of Epochs** - The model accuracies may converge at later epochs.\n",
    "* **Learning Rate** - The model accuracies may converge at lower/higher learnign rate.\n",
    "* **Regularization** - Adding L1/L2 regularization may help to reduce overfitting.\n",
    "* **Changing the model architecture** - May help to reduce overfitting."
   ]
  },
  {
   "cell_type": "markdown",
   "metadata": {},
   "source": [
    "## End of Part A, Question 3. "
   ]
  }
 ],
 "metadata": {
  "colab": {
   "authorship_tag": "ABX9TyPBI19y+/jqNpPI0QeiLTYf",
   "collapsed_sections": [],
   "name": "StarterCode.ipynb",
   "provenance": []
  },
  "interpreter": {
   "hash": "7e616aa229b6c21d6a2224f5b1a42eeeae7d750913ae40552b402d63a7031d52"
  },
  "kernelspec": {
   "display_name": "Python 3.9.4 64-bit ('myenv': conda)",
   "name": "python3"
  },
  "language_info": {
   "codemirror_mode": {
    "name": "ipython",
    "version": 3
   },
   "file_extension": ".py",
   "mimetype": "text/x-python",
   "name": "python",
   "nbconvert_exporter": "python",
   "pygments_lexer": "ipython3",
   "version": "3.9.4"
  }
 },
 "nbformat": 4,
 "nbformat_minor": 1
}
